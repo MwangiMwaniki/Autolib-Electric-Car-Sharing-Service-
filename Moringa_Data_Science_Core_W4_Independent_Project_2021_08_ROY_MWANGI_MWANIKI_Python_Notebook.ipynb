{
  "nbformat": 4,
  "nbformat_minor": 0,
  "metadata": {
    "colab": {
      "name": "Moringa_Data_Science_Core_W4_Independent_Project_2021_08_ROY_MWANGI_MWANIKI_Python_Notebook.ipynb",
      "provenance": [],
      "collapsed_sections": [],
      "toc_visible": true,
      "include_colab_link": true
    },
    "kernelspec": {
      "name": "python3",
      "display_name": "Python 3"
    },
    "accelerator": "GPU"
  },
  "cells": [
    {
      "cell_type": "markdown",
      "metadata": {
        "id": "view-in-github",
        "colab_type": "text"
      },
      "source": [
        "<a href=\"https://colab.research.google.com/github/MwangiMwaniki/Autolib-Electric-Car-Sharing-Service-/blob/main/Moringa_Data_Science_Core_W4_Independent_Project_2021_08_ROY_MWANGI_MWANIKI_Python_Notebook.ipynb\" target=\"_parent\"><img src=\"https://colab.research.google.com/assets/colab-badge.svg\" alt=\"Open In Colab\"/></a>"
      ]
    },
    {
      "cell_type": "markdown",
      "metadata": {
        "id": "R3X3Q1hBeVy_"
      },
      "source": [
        "# A PYTHON PROJECT TO UNDERSTAND ELECTRIC CAR USAGE\n"
      ]
    },
    {
      "cell_type": "markdown",
      "metadata": {
        "id": "ZtaLiXGBpbTT"
      },
      "source": [
        "# 1.1 INTRODUCTION"
      ]
    },
    {
      "cell_type": "markdown",
      "metadata": {
        "id": "kFd6tP45oDbJ"
      },
      "source": [
        "## 1.1.1 Defining the question"
      ]
    },
    {
      "cell_type": "code",
      "metadata": {
        "id": "wYp0frLWoCAA"
      },
      "source": [
        "# Investigating the electric (bluecars) car usage in Paris during weekdays.\n",
        "\n",
        "# Test a Hypothesis: whether there is difference in the means of blue cars taken in two different postal codes selected randomly."
      ],
      "execution_count": null,
      "outputs": []
    },
    {
      "cell_type": "markdown",
      "metadata": {
        "id": "hOowDoJAoJgh"
      },
      "source": [
        "## 1.1.2 Metrics for success"
      ]
    },
    {
      "cell_type": "code",
      "metadata": {
        "id": "O5YQ8-1soYbN"
      },
      "source": [
        "# Exploratory Data Analysis\n",
        "# Univariate, Bivariate Analysis\n",
        "# Create Visualizations\n",
        "# Testing a Hypothesis\n",
        "# Challenging the solution."
      ],
      "execution_count": null,
      "outputs": []
    },
    {
      "cell_type": "markdown",
      "metadata": {
        "id": "SqXV0LlDoZDs"
      },
      "source": [
        "## 1.1.3 Understanding the context"
      ]
    },
    {
      "cell_type": "code",
      "metadata": {
        "id": "Sw_EA4DEogJV"
      },
      "source": [
        "# In this project we will seek to understand electric car usage by solving for another research question.\n",
        "\n",
        "# I will work as a Data Scientist for the Autolib electric car-sharing service company to investigate a claim about the blue cars from the provided Autolib dataset.\n",
        "\n",
        "# To do this, we need to identify some areas and periods of interest via sampling stating the reason to the choice of method,\n",
        "\n",
        "# Then perform hypothesis testing with regards to the claim that we will have made.\n",
        "\n",
        "# An example of claim to test would be \"Is the number of Bluecars taken in area X different than in area Y? Is it greater in area X than in area Z? Etc”. \n",
        "\n",
        "# The selected periods of interest be either weekdays or weekends but not a mix of both. \n",
        "\n",
        "# We can also consider postal codes as some of the areas of interest. "
      ],
      "execution_count": null,
      "outputs": []
    },
    {
      "cell_type": "markdown",
      "metadata": {
        "id": "vmf5YFHZogui"
      },
      "source": [
        "## 1.1.4 The experimental design taken"
      ]
    },
    {
      "cell_type": "code",
      "metadata": {
        "id": "R3kb_tuFoo8f"
      },
      "source": [
        "# Exploratory Data Analysis\n",
        "# Data Cleaning\n",
        "# Univariate, Bivariate Analysis\n",
        "# Visualizations\n",
        "# Testing a Hypothesis\n",
        "# Challenge our solution by providing insights on how we can make improvements."
      ],
      "execution_count": null,
      "outputs": []
    },
    {
      "cell_type": "markdown",
      "metadata": {
        "id": "B5DAxLSIopWt"
      },
      "source": [
        "## 1.1.5 Appropriateness of the data available"
      ]
    },
    {
      "cell_type": "code",
      "metadata": {
        "id": "sDCLEjoueQlb"
      },
      "source": [
        "# Dataset\n",
        "\n",
        "# The dataset to use for this project can be found here [http://bit.ly/DSCoreAutolibDataset]\n",
        "\n",
        "# The provided dataset is a daily aggregation, by date and postal code, of the number of events on the Autolib network (car-sharing and recharging)"
      ],
      "execution_count": null,
      "outputs": []
    },
    {
      "cell_type": "markdown",
      "metadata": {
        "id": "PiENCrJxtoWz"
      },
      "source": [
        "# 1.2 EXPLORATORY DATA ANALYSIS"
      ]
    },
    {
      "cell_type": "markdown",
      "metadata": {
        "id": "VnQVjDt6t7cw"
      },
      "source": [
        "## 1.2.1 Importing Libraries"
      ]
    },
    {
      "cell_type": "code",
      "metadata": {
        "id": "AcSU5O5OtnIl"
      },
      "source": [
        "# Importing libraries we will use in this project\n",
        "\n",
        "import pandas as pd\n",
        "\n",
        "import numpy as np\n",
        "\n",
        "import seaborn as sns  # Visualization library\n",
        "\n",
        "import matplotlib.pyplot as plt # plotting library\n",
        "\n",
        "%matplotlib inline\n",
        "\n",
        "import pandas_profiling as pp\n",
        "\n",
        "from scipy import stats\n",
        "\n",
        "from scipy.stats import norm\n",
        "\n",
        "from scipy.stats import t\n",
        "\n",
        "import math\n",
        "\n",
        "from scipy.stats import ttest_ind\n",
        "\n",
        "from statsmodels.stats import weightstats as stests\n"
      ],
      "execution_count": null,
      "outputs": []
    },
    {
      "cell_type": "markdown",
      "metadata": {
        "id": "Gw_Olx5ou6uL"
      },
      "source": [
        "## 1.2.2 Loading the Dataset"
      ]
    },
    {
      "cell_type": "code",
      "metadata": {
        "id": "dTYH2NAreQxk"
      },
      "source": [
        "# We will load our dataset \n",
        "\n",
        "df= pd.read_csv(\"http://bit.ly/DSCoreAutolibDataset\")\n"
      ],
      "execution_count": null,
      "outputs": []
    },
    {
      "cell_type": "markdown",
      "metadata": {
        "id": "SAUI2g5PxPsn"
      },
      "source": [
        "## 1.2.3 Viewing the dataset"
      ]
    },
    {
      "cell_type": "code",
      "metadata": {
        "id": "hHVWvvJueQ0b",
        "colab": {
          "base_uri": "https://localhost:8080/",
          "height": 241
        },
        "outputId": "5dd14d33-7626-4a0e-b624-8325c555f619"
      },
      "source": [
        "# Viewing the first five entries of our dataset\n",
        "\n",
        "df.head()"
      ],
      "execution_count": null,
      "outputs": [
        {
          "output_type": "execute_result",
          "data": {
            "text/html": [
              "<div>\n",
              "<style scoped>\n",
              "    .dataframe tbody tr th:only-of-type {\n",
              "        vertical-align: middle;\n",
              "    }\n",
              "\n",
              "    .dataframe tbody tr th {\n",
              "        vertical-align: top;\n",
              "    }\n",
              "\n",
              "    .dataframe thead th {\n",
              "        text-align: right;\n",
              "    }\n",
              "</style>\n",
              "<table border=\"1\" class=\"dataframe\">\n",
              "  <thead>\n",
              "    <tr style=\"text-align: right;\">\n",
              "      <th></th>\n",
              "      <th>Postal code</th>\n",
              "      <th>date</th>\n",
              "      <th>n_daily_data_points</th>\n",
              "      <th>dayOfWeek</th>\n",
              "      <th>day_type</th>\n",
              "      <th>BlueCars_taken_sum</th>\n",
              "      <th>BlueCars_returned_sum</th>\n",
              "      <th>Utilib_taken_sum</th>\n",
              "      <th>Utilib_returned_sum</th>\n",
              "      <th>Utilib_14_taken_sum</th>\n",
              "      <th>Utilib_14_returned_sum</th>\n",
              "      <th>Slots_freed_sum</th>\n",
              "      <th>Slots_taken_sum</th>\n",
              "    </tr>\n",
              "  </thead>\n",
              "  <tbody>\n",
              "    <tr>\n",
              "      <th>0</th>\n",
              "      <td>75001</td>\n",
              "      <td>1/1/2018</td>\n",
              "      <td>1440</td>\n",
              "      <td>0</td>\n",
              "      <td>weekday</td>\n",
              "      <td>110</td>\n",
              "      <td>103</td>\n",
              "      <td>3</td>\n",
              "      <td>2</td>\n",
              "      <td>10</td>\n",
              "      <td>9</td>\n",
              "      <td>22</td>\n",
              "      <td>20</td>\n",
              "    </tr>\n",
              "    <tr>\n",
              "      <th>1</th>\n",
              "      <td>75001</td>\n",
              "      <td>1/2/2018</td>\n",
              "      <td>1438</td>\n",
              "      <td>1</td>\n",
              "      <td>weekday</td>\n",
              "      <td>98</td>\n",
              "      <td>94</td>\n",
              "      <td>1</td>\n",
              "      <td>1</td>\n",
              "      <td>8</td>\n",
              "      <td>8</td>\n",
              "      <td>23</td>\n",
              "      <td>22</td>\n",
              "    </tr>\n",
              "    <tr>\n",
              "      <th>2</th>\n",
              "      <td>75001</td>\n",
              "      <td>1/3/2018</td>\n",
              "      <td>1439</td>\n",
              "      <td>2</td>\n",
              "      <td>weekday</td>\n",
              "      <td>138</td>\n",
              "      <td>139</td>\n",
              "      <td>0</td>\n",
              "      <td>0</td>\n",
              "      <td>2</td>\n",
              "      <td>2</td>\n",
              "      <td>27</td>\n",
              "      <td>27</td>\n",
              "    </tr>\n",
              "    <tr>\n",
              "      <th>3</th>\n",
              "      <td>75001</td>\n",
              "      <td>1/4/2018</td>\n",
              "      <td>1320</td>\n",
              "      <td>3</td>\n",
              "      <td>weekday</td>\n",
              "      <td>104</td>\n",
              "      <td>104</td>\n",
              "      <td>2</td>\n",
              "      <td>2</td>\n",
              "      <td>9</td>\n",
              "      <td>8</td>\n",
              "      <td>25</td>\n",
              "      <td>21</td>\n",
              "    </tr>\n",
              "    <tr>\n",
              "      <th>4</th>\n",
              "      <td>75001</td>\n",
              "      <td>1/5/2018</td>\n",
              "      <td>1440</td>\n",
              "      <td>4</td>\n",
              "      <td>weekday</td>\n",
              "      <td>114</td>\n",
              "      <td>117</td>\n",
              "      <td>3</td>\n",
              "      <td>3</td>\n",
              "      <td>6</td>\n",
              "      <td>6</td>\n",
              "      <td>18</td>\n",
              "      <td>20</td>\n",
              "    </tr>\n",
              "  </tbody>\n",
              "</table>\n",
              "</div>"
            ],
            "text/plain": [
              "   Postal code      date  ...  Slots_freed_sum  Slots_taken_sum\n",
              "0        75001  1/1/2018  ...               22               20\n",
              "1        75001  1/2/2018  ...               23               22\n",
              "2        75001  1/3/2018  ...               27               27\n",
              "3        75001  1/4/2018  ...               25               21\n",
              "4        75001  1/5/2018  ...               18               20\n",
              "\n",
              "[5 rows x 13 columns]"
            ]
          },
          "metadata": {
            "tags": []
          },
          "execution_count": 45
        }
      ]
    },
    {
      "cell_type": "code",
      "metadata": {
        "id": "zqq1-KOlxOoS",
        "colab": {
          "base_uri": "https://localhost:8080/",
          "height": 241
        },
        "outputId": "caafd95c-eb97-4986-c107-830adfe71d10"
      },
      "source": [
        "#  Viewing the last five entries of our dataset\n",
        "\n",
        "df.tail()"
      ],
      "execution_count": null,
      "outputs": [
        {
          "output_type": "execute_result",
          "data": {
            "text/html": [
              "<div>\n",
              "<style scoped>\n",
              "    .dataframe tbody tr th:only-of-type {\n",
              "        vertical-align: middle;\n",
              "    }\n",
              "\n",
              "    .dataframe tbody tr th {\n",
              "        vertical-align: top;\n",
              "    }\n",
              "\n",
              "    .dataframe thead th {\n",
              "        text-align: right;\n",
              "    }\n",
              "</style>\n",
              "<table border=\"1\" class=\"dataframe\">\n",
              "  <thead>\n",
              "    <tr style=\"text-align: right;\">\n",
              "      <th></th>\n",
              "      <th>Postal code</th>\n",
              "      <th>date</th>\n",
              "      <th>n_daily_data_points</th>\n",
              "      <th>dayOfWeek</th>\n",
              "      <th>day_type</th>\n",
              "      <th>BlueCars_taken_sum</th>\n",
              "      <th>BlueCars_returned_sum</th>\n",
              "      <th>Utilib_taken_sum</th>\n",
              "      <th>Utilib_returned_sum</th>\n",
              "      <th>Utilib_14_taken_sum</th>\n",
              "      <th>Utilib_14_returned_sum</th>\n",
              "      <th>Slots_freed_sum</th>\n",
              "      <th>Slots_taken_sum</th>\n",
              "    </tr>\n",
              "  </thead>\n",
              "  <tbody>\n",
              "    <tr>\n",
              "      <th>16080</th>\n",
              "      <td>95880</td>\n",
              "      <td>6/15/2018</td>\n",
              "      <td>1440</td>\n",
              "      <td>4</td>\n",
              "      <td>weekday</td>\n",
              "      <td>15</td>\n",
              "      <td>10</td>\n",
              "      <td>0</td>\n",
              "      <td>0</td>\n",
              "      <td>2</td>\n",
              "      <td>3</td>\n",
              "      <td>0</td>\n",
              "      <td>0</td>\n",
              "    </tr>\n",
              "    <tr>\n",
              "      <th>16081</th>\n",
              "      <td>95880</td>\n",
              "      <td>6/16/2018</td>\n",
              "      <td>1440</td>\n",
              "      <td>5</td>\n",
              "      <td>weekend</td>\n",
              "      <td>19</td>\n",
              "      <td>19</td>\n",
              "      <td>0</td>\n",
              "      <td>0</td>\n",
              "      <td>2</td>\n",
              "      <td>1</td>\n",
              "      <td>0</td>\n",
              "      <td>0</td>\n",
              "    </tr>\n",
              "    <tr>\n",
              "      <th>16082</th>\n",
              "      <td>95880</td>\n",
              "      <td>6/17/2018</td>\n",
              "      <td>1440</td>\n",
              "      <td>6</td>\n",
              "      <td>weekend</td>\n",
              "      <td>33</td>\n",
              "      <td>35</td>\n",
              "      <td>1</td>\n",
              "      <td>1</td>\n",
              "      <td>0</td>\n",
              "      <td>0</td>\n",
              "      <td>0</td>\n",
              "      <td>0</td>\n",
              "    </tr>\n",
              "    <tr>\n",
              "      <th>16083</th>\n",
              "      <td>95880</td>\n",
              "      <td>6/18/2018</td>\n",
              "      <td>1440</td>\n",
              "      <td>0</td>\n",
              "      <td>weekday</td>\n",
              "      <td>11</td>\n",
              "      <td>14</td>\n",
              "      <td>3</td>\n",
              "      <td>5</td>\n",
              "      <td>2</td>\n",
              "      <td>2</td>\n",
              "      <td>0</td>\n",
              "      <td>0</td>\n",
              "    </tr>\n",
              "    <tr>\n",
              "      <th>16084</th>\n",
              "      <td>95880</td>\n",
              "      <td>6/19/2018</td>\n",
              "      <td>1370</td>\n",
              "      <td>1</td>\n",
              "      <td>weekday</td>\n",
              "      <td>2</td>\n",
              "      <td>2</td>\n",
              "      <td>2</td>\n",
              "      <td>1</td>\n",
              "      <td>0</td>\n",
              "      <td>0</td>\n",
              "      <td>0</td>\n",
              "      <td>0</td>\n",
              "    </tr>\n",
              "  </tbody>\n",
              "</table>\n",
              "</div>"
            ],
            "text/plain": [
              "       Postal code       date  ...  Slots_freed_sum  Slots_taken_sum\n",
              "16080        95880  6/15/2018  ...                0                0\n",
              "16081        95880  6/16/2018  ...                0                0\n",
              "16082        95880  6/17/2018  ...                0                0\n",
              "16083        95880  6/18/2018  ...                0                0\n",
              "16084        95880  6/19/2018  ...                0                0\n",
              "\n",
              "[5 rows x 13 columns]"
            ]
          },
          "metadata": {
            "tags": []
          },
          "execution_count": 46
        }
      ]
    },
    {
      "cell_type": "code",
      "metadata": {
        "id": "Ln7OceqGeQ3e",
        "colab": {
          "base_uri": "https://localhost:8080/"
        },
        "outputId": "8ce5f2f1-b474-4d88-f81e-73b4cdde6c80"
      },
      "source": [
        "# Checking the dataset information\n",
        "\n",
        "df.info()"
      ],
      "execution_count": null,
      "outputs": [
        {
          "output_type": "stream",
          "text": [
            "<class 'pandas.core.frame.DataFrame'>\n",
            "RangeIndex: 16085 entries, 0 to 16084\n",
            "Data columns (total 13 columns):\n",
            " #   Column                  Non-Null Count  Dtype \n",
            "---  ------                  --------------  ----- \n",
            " 0   Postal code             16085 non-null  int64 \n",
            " 1   date                    16085 non-null  object\n",
            " 2   n_daily_data_points     16085 non-null  int64 \n",
            " 3   dayOfWeek               16085 non-null  int64 \n",
            " 4   day_type                16085 non-null  object\n",
            " 5   BlueCars_taken_sum      16085 non-null  int64 \n",
            " 6   BlueCars_returned_sum   16085 non-null  int64 \n",
            " 7   Utilib_taken_sum        16085 non-null  int64 \n",
            " 8   Utilib_returned_sum     16085 non-null  int64 \n",
            " 9   Utilib_14_taken_sum     16085 non-null  int64 \n",
            " 10  Utilib_14_returned_sum  16085 non-null  int64 \n",
            " 11  Slots_freed_sum         16085 non-null  int64 \n",
            " 12  Slots_taken_sum         16085 non-null  int64 \n",
            "dtypes: int64(11), object(2)\n",
            "memory usage: 1.6+ MB\n"
          ],
          "name": "stdout"
        }
      ]
    },
    {
      "cell_type": "code",
      "metadata": {
        "id": "SISUsvoBeQ67",
        "colab": {
          "base_uri": "https://localhost:8080/"
        },
        "outputId": "18c6c064-0ec1-41b8-a482-6cb6786a0821"
      },
      "source": [
        "# Checking the dataset shape i.e. number of rows and columns\n",
        "\n",
        "print('The Autolib dataset has ' + str(df.shape[0]) + ' rows and ' +  str(df.shape[1]) + ' columns' )"
      ],
      "execution_count": null,
      "outputs": [
        {
          "output_type": "stream",
          "text": [
            "The Autolib dataset has 16085 rows and 13 columns\n"
          ],
          "name": "stdout"
        }
      ]
    },
    {
      "cell_type": "code",
      "metadata": {
        "id": "zcNHCKETy6sf",
        "colab": {
          "base_uri": "https://localhost:8080/"
        },
        "outputId": "43d569f7-d1df-4fa8-9771-0324e8780680"
      },
      "source": [
        "# Checking the data types in our dataset\n",
        "\n",
        "df.dtypes"
      ],
      "execution_count": null,
      "outputs": [
        {
          "output_type": "execute_result",
          "data": {
            "text/plain": [
              "Postal code                int64\n",
              "date                      object\n",
              "n_daily_data_points        int64\n",
              "dayOfWeek                  int64\n",
              "day_type                  object\n",
              "BlueCars_taken_sum         int64\n",
              "BlueCars_returned_sum      int64\n",
              "Utilib_taken_sum           int64\n",
              "Utilib_returned_sum        int64\n",
              "Utilib_14_taken_sum        int64\n",
              "Utilib_14_returned_sum     int64\n",
              "Slots_freed_sum            int64\n",
              "Slots_taken_sum            int64\n",
              "dtype: object"
            ]
          },
          "metadata": {
            "tags": []
          },
          "execution_count": 49
        }
      ]
    },
    {
      "cell_type": "code",
      "metadata": {
        "id": "MpDF3YjQy6wR",
        "colab": {
          "base_uri": "https://localhost:8080/"
        },
        "outputId": "90e1f3fd-fecf-4b11-c2da-8aa722334f46"
      },
      "source": [
        "# Checking the columns names in our dataset\n",
        "\n",
        "df.columns"
      ],
      "execution_count": null,
      "outputs": [
        {
          "output_type": "execute_result",
          "data": {
            "text/plain": [
              "Index(['Postal code', 'date', 'n_daily_data_points', 'dayOfWeek', 'day_type',\n",
              "       'BlueCars_taken_sum', 'BlueCars_returned_sum', 'Utilib_taken_sum',\n",
              "       'Utilib_returned_sum', 'Utilib_14_taken_sum', 'Utilib_14_returned_sum',\n",
              "       'Slots_freed_sum', 'Slots_taken_sum'],\n",
              "      dtype='object')"
            ]
          },
          "metadata": {
            "tags": []
          },
          "execution_count": 50
        }
      ]
    },
    {
      "cell_type": "code",
      "metadata": {
        "id": "JEBnwS7QlPAl",
        "colab": {
          "base_uri": "https://localhost:8080/"
        },
        "outputId": "fdaace8f-4c35-44f6-ac54-ed4d39aefe07"
      },
      "source": [
        "# Checking number of unique items in each column\n",
        "\n",
        "df.nunique()"
      ],
      "execution_count": null,
      "outputs": [
        {
          "output_type": "execute_result",
          "data": {
            "text/plain": [
              "Postal code               104\n",
              "date                      156\n",
              "n_daily_data_points        23\n",
              "dayOfWeek                   7\n",
              "day_type                    2\n",
              "BlueCars_taken_sum        932\n",
              "BlueCars_returned_sum     929\n",
              "Utilib_taken_sum           48\n",
              "Utilib_returned_sum        49\n",
              "Utilib_14_taken_sum        92\n",
              "Utilib_14_returned_sum     94\n",
              "Slots_freed_sum           297\n",
              "Slots_taken_sum           301\n",
              "dtype: int64"
            ]
          },
          "metadata": {
            "tags": []
          },
          "execution_count": 51
        }
      ]
    },
    {
      "cell_type": "code",
      "metadata": {
        "id": "QGJDzf3SzZo_",
        "colab": {
          "base_uri": "https://localhost:8080/",
          "height": 317
        },
        "outputId": "3df47f55-d902-40ca-9f50-a7b7be7997ff"
      },
      "source": [
        "# Here we can check a Summary description of our dataset\n",
        "\n",
        "df.describe()"
      ],
      "execution_count": null,
      "outputs": [
        {
          "output_type": "execute_result",
          "data": {
            "text/html": [
              "<div>\n",
              "<style scoped>\n",
              "    .dataframe tbody tr th:only-of-type {\n",
              "        vertical-align: middle;\n",
              "    }\n",
              "\n",
              "    .dataframe tbody tr th {\n",
              "        vertical-align: top;\n",
              "    }\n",
              "\n",
              "    .dataframe thead th {\n",
              "        text-align: right;\n",
              "    }\n",
              "</style>\n",
              "<table border=\"1\" class=\"dataframe\">\n",
              "  <thead>\n",
              "    <tr style=\"text-align: right;\">\n",
              "      <th></th>\n",
              "      <th>Postal code</th>\n",
              "      <th>n_daily_data_points</th>\n",
              "      <th>dayOfWeek</th>\n",
              "      <th>BlueCars_taken_sum</th>\n",
              "      <th>BlueCars_returned_sum</th>\n",
              "      <th>Utilib_taken_sum</th>\n",
              "      <th>Utilib_returned_sum</th>\n",
              "      <th>Utilib_14_taken_sum</th>\n",
              "      <th>Utilib_14_returned_sum</th>\n",
              "      <th>Slots_freed_sum</th>\n",
              "      <th>Slots_taken_sum</th>\n",
              "    </tr>\n",
              "  </thead>\n",
              "  <tbody>\n",
              "    <tr>\n",
              "      <th>count</th>\n",
              "      <td>16085.000000</td>\n",
              "      <td>16085.000000</td>\n",
              "      <td>16085.000000</td>\n",
              "      <td>16085.000000</td>\n",
              "      <td>16085.000000</td>\n",
              "      <td>16085.000000</td>\n",
              "      <td>16085.000000</td>\n",
              "      <td>16085.000000</td>\n",
              "      <td>16085.000000</td>\n",
              "      <td>16085.000000</td>\n",
              "      <td>16085.000000</td>\n",
              "    </tr>\n",
              "    <tr>\n",
              "      <th>mean</th>\n",
              "      <td>88791.293876</td>\n",
              "      <td>1431.330619</td>\n",
              "      <td>2.969599</td>\n",
              "      <td>125.926951</td>\n",
              "      <td>125.912714</td>\n",
              "      <td>3.698290</td>\n",
              "      <td>3.699099</td>\n",
              "      <td>8.600560</td>\n",
              "      <td>8.599192</td>\n",
              "      <td>22.629033</td>\n",
              "      <td>22.629282</td>\n",
              "    </tr>\n",
              "    <tr>\n",
              "      <th>std</th>\n",
              "      <td>7647.342000</td>\n",
              "      <td>33.212050</td>\n",
              "      <td>2.008378</td>\n",
              "      <td>185.426579</td>\n",
              "      <td>185.501535</td>\n",
              "      <td>5.815058</td>\n",
              "      <td>5.824634</td>\n",
              "      <td>12.870098</td>\n",
              "      <td>12.868993</td>\n",
              "      <td>52.120263</td>\n",
              "      <td>52.146030</td>\n",
              "    </tr>\n",
              "    <tr>\n",
              "      <th>min</th>\n",
              "      <td>75001.000000</td>\n",
              "      <td>1174.000000</td>\n",
              "      <td>0.000000</td>\n",
              "      <td>0.000000</td>\n",
              "      <td>0.000000</td>\n",
              "      <td>0.000000</td>\n",
              "      <td>0.000000</td>\n",
              "      <td>0.000000</td>\n",
              "      <td>0.000000</td>\n",
              "      <td>0.000000</td>\n",
              "      <td>0.000000</td>\n",
              "    </tr>\n",
              "    <tr>\n",
              "      <th>25%</th>\n",
              "      <td>91330.000000</td>\n",
              "      <td>1439.000000</td>\n",
              "      <td>1.000000</td>\n",
              "      <td>20.000000</td>\n",
              "      <td>20.000000</td>\n",
              "      <td>0.000000</td>\n",
              "      <td>0.000000</td>\n",
              "      <td>1.000000</td>\n",
              "      <td>1.000000</td>\n",
              "      <td>0.000000</td>\n",
              "      <td>0.000000</td>\n",
              "    </tr>\n",
              "    <tr>\n",
              "      <th>50%</th>\n",
              "      <td>92340.000000</td>\n",
              "      <td>1440.000000</td>\n",
              "      <td>3.000000</td>\n",
              "      <td>46.000000</td>\n",
              "      <td>46.000000</td>\n",
              "      <td>1.000000</td>\n",
              "      <td>1.000000</td>\n",
              "      <td>3.000000</td>\n",
              "      <td>3.000000</td>\n",
              "      <td>0.000000</td>\n",
              "      <td>0.000000</td>\n",
              "    </tr>\n",
              "    <tr>\n",
              "      <th>75%</th>\n",
              "      <td>93400.000000</td>\n",
              "      <td>1440.000000</td>\n",
              "      <td>5.000000</td>\n",
              "      <td>135.000000</td>\n",
              "      <td>135.000000</td>\n",
              "      <td>4.000000</td>\n",
              "      <td>4.000000</td>\n",
              "      <td>10.000000</td>\n",
              "      <td>10.000000</td>\n",
              "      <td>5.000000</td>\n",
              "      <td>5.000000</td>\n",
              "    </tr>\n",
              "    <tr>\n",
              "      <th>max</th>\n",
              "      <td>95880.000000</td>\n",
              "      <td>1440.000000</td>\n",
              "      <td>6.000000</td>\n",
              "      <td>1352.000000</td>\n",
              "      <td>1332.000000</td>\n",
              "      <td>54.000000</td>\n",
              "      <td>58.000000</td>\n",
              "      <td>100.000000</td>\n",
              "      <td>101.000000</td>\n",
              "      <td>360.000000</td>\n",
              "      <td>359.000000</td>\n",
              "    </tr>\n",
              "  </tbody>\n",
              "</table>\n",
              "</div>"
            ],
            "text/plain": [
              "        Postal code  n_daily_data_points  ...  Slots_freed_sum  Slots_taken_sum\n",
              "count  16085.000000         16085.000000  ...     16085.000000     16085.000000\n",
              "mean   88791.293876          1431.330619  ...        22.629033        22.629282\n",
              "std     7647.342000            33.212050  ...        52.120263        52.146030\n",
              "min    75001.000000          1174.000000  ...         0.000000         0.000000\n",
              "25%    91330.000000          1439.000000  ...         0.000000         0.000000\n",
              "50%    92340.000000          1440.000000  ...         0.000000         0.000000\n",
              "75%    93400.000000          1440.000000  ...         5.000000         5.000000\n",
              "max    95880.000000          1440.000000  ...       360.000000       359.000000\n",
              "\n",
              "[8 rows x 11 columns]"
            ]
          },
          "metadata": {
            "tags": []
          },
          "execution_count": 52
        }
      ]
    },
    {
      "cell_type": "markdown",
      "metadata": {
        "id": "aQk8-tOqsOWK"
      },
      "source": [
        "# Partititioning our dataframe into weekdays only"
      ]
    },
    {
      "cell_type": "code",
      "metadata": {
        "id": "Le68igiNsWuP"
      },
      "source": [
        "# In this project we are required to work with either tha weekdays or the weekends.\n",
        "# I choose weekdays\n",
        "\n",
        "\n",
        "df= df[df['day_type'] == 'weekday']"
      ],
      "execution_count": null,
      "outputs": []
    },
    {
      "cell_type": "code",
      "metadata": {
        "id": "Znv2F18rtL2L",
        "colab": {
          "base_uri": "https://localhost:8080/",
          "height": 258
        },
        "outputId": "15836112-261f-4887-afdb-c58f9f65aa9a"
      },
      "source": [
        "# printing the dataset shape\n",
        "# viewing the new dataset\n",
        "print(df.shape)\n",
        "\n",
        "df.head()\n"
      ],
      "execution_count": null,
      "outputs": [
        {
          "output_type": "stream",
          "text": [
            "(11544, 13)\n"
          ],
          "name": "stdout"
        },
        {
          "output_type": "execute_result",
          "data": {
            "text/html": [
              "<div>\n",
              "<style scoped>\n",
              "    .dataframe tbody tr th:only-of-type {\n",
              "        vertical-align: middle;\n",
              "    }\n",
              "\n",
              "    .dataframe tbody tr th {\n",
              "        vertical-align: top;\n",
              "    }\n",
              "\n",
              "    .dataframe thead th {\n",
              "        text-align: right;\n",
              "    }\n",
              "</style>\n",
              "<table border=\"1\" class=\"dataframe\">\n",
              "  <thead>\n",
              "    <tr style=\"text-align: right;\">\n",
              "      <th></th>\n",
              "      <th>Postal code</th>\n",
              "      <th>date</th>\n",
              "      <th>n_daily_data_points</th>\n",
              "      <th>dayOfWeek</th>\n",
              "      <th>day_type</th>\n",
              "      <th>BlueCars_taken_sum</th>\n",
              "      <th>BlueCars_returned_sum</th>\n",
              "      <th>Utilib_taken_sum</th>\n",
              "      <th>Utilib_returned_sum</th>\n",
              "      <th>Utilib_14_taken_sum</th>\n",
              "      <th>Utilib_14_returned_sum</th>\n",
              "      <th>Slots_freed_sum</th>\n",
              "      <th>Slots_taken_sum</th>\n",
              "    </tr>\n",
              "  </thead>\n",
              "  <tbody>\n",
              "    <tr>\n",
              "      <th>0</th>\n",
              "      <td>75001</td>\n",
              "      <td>1/1/2018</td>\n",
              "      <td>1440</td>\n",
              "      <td>0</td>\n",
              "      <td>weekday</td>\n",
              "      <td>110</td>\n",
              "      <td>103</td>\n",
              "      <td>3</td>\n",
              "      <td>2</td>\n",
              "      <td>10</td>\n",
              "      <td>9</td>\n",
              "      <td>22</td>\n",
              "      <td>20</td>\n",
              "    </tr>\n",
              "    <tr>\n",
              "      <th>1</th>\n",
              "      <td>75001</td>\n",
              "      <td>1/2/2018</td>\n",
              "      <td>1438</td>\n",
              "      <td>1</td>\n",
              "      <td>weekday</td>\n",
              "      <td>98</td>\n",
              "      <td>94</td>\n",
              "      <td>1</td>\n",
              "      <td>1</td>\n",
              "      <td>8</td>\n",
              "      <td>8</td>\n",
              "      <td>23</td>\n",
              "      <td>22</td>\n",
              "    </tr>\n",
              "    <tr>\n",
              "      <th>2</th>\n",
              "      <td>75001</td>\n",
              "      <td>1/3/2018</td>\n",
              "      <td>1439</td>\n",
              "      <td>2</td>\n",
              "      <td>weekday</td>\n",
              "      <td>138</td>\n",
              "      <td>139</td>\n",
              "      <td>0</td>\n",
              "      <td>0</td>\n",
              "      <td>2</td>\n",
              "      <td>2</td>\n",
              "      <td>27</td>\n",
              "      <td>27</td>\n",
              "    </tr>\n",
              "    <tr>\n",
              "      <th>3</th>\n",
              "      <td>75001</td>\n",
              "      <td>1/4/2018</td>\n",
              "      <td>1320</td>\n",
              "      <td>3</td>\n",
              "      <td>weekday</td>\n",
              "      <td>104</td>\n",
              "      <td>104</td>\n",
              "      <td>2</td>\n",
              "      <td>2</td>\n",
              "      <td>9</td>\n",
              "      <td>8</td>\n",
              "      <td>25</td>\n",
              "      <td>21</td>\n",
              "    </tr>\n",
              "    <tr>\n",
              "      <th>4</th>\n",
              "      <td>75001</td>\n",
              "      <td>1/5/2018</td>\n",
              "      <td>1440</td>\n",
              "      <td>4</td>\n",
              "      <td>weekday</td>\n",
              "      <td>114</td>\n",
              "      <td>117</td>\n",
              "      <td>3</td>\n",
              "      <td>3</td>\n",
              "      <td>6</td>\n",
              "      <td>6</td>\n",
              "      <td>18</td>\n",
              "      <td>20</td>\n",
              "    </tr>\n",
              "  </tbody>\n",
              "</table>\n",
              "</div>"
            ],
            "text/plain": [
              "   Postal code      date  ...  Slots_freed_sum  Slots_taken_sum\n",
              "0        75001  1/1/2018  ...               22               20\n",
              "1        75001  1/2/2018  ...               23               22\n",
              "2        75001  1/3/2018  ...               27               27\n",
              "3        75001  1/4/2018  ...               25               21\n",
              "4        75001  1/5/2018  ...               18               20\n",
              "\n",
              "[5 rows x 13 columns]"
            ]
          },
          "metadata": {
            "tags": []
          },
          "execution_count": 54
        }
      ]
    },
    {
      "cell_type": "markdown",
      "metadata": {
        "id": "QGiiLuNLCU-t"
      },
      "source": [
        "# 1.3 DATA CLEANING"
      ]
    },
    {
      "cell_type": "markdown",
      "metadata": {
        "id": "1wYOiW7jD4TT"
      },
      "source": [
        "## 1.3.1 Fixing column names"
      ]
    },
    {
      "cell_type": "code",
      "metadata": {
        "id": "pj4hRQKQCbaM"
      },
      "source": [
        "# Removing spaces in the columns names\n",
        "\n",
        "df.columns = df.columns.str.lower().str.replace(\" \", \"\")\n"
      ],
      "execution_count": null,
      "outputs": []
    },
    {
      "cell_type": "code",
      "metadata": {
        "id": "XZtVdPn3CbVW",
        "colab": {
          "base_uri": "https://localhost:8080/"
        },
        "outputId": "7e51d8fd-1367-4586-843f-b6df3d003856"
      },
      "source": [
        "# confirming the columns names\n",
        "\n",
        "df.columns"
      ],
      "execution_count": null,
      "outputs": [
        {
          "output_type": "execute_result",
          "data": {
            "text/plain": [
              "Index(['postalcode', 'date', 'n_daily_data_points', 'dayofweek', 'day_type',\n",
              "       'bluecars_taken_sum', 'bluecars_returned_sum', 'utilib_taken_sum',\n",
              "       'utilib_returned_sum', 'utilib_14_taken_sum', 'utilib_14_returned_sum',\n",
              "       'slots_freed_sum', 'slots_taken_sum'],\n",
              "      dtype='object')"
            ]
          },
          "metadata": {
            "tags": []
          },
          "execution_count": 56
        }
      ]
    },
    {
      "cell_type": "code",
      "metadata": {
        "id": "0_1CTMR53wSP",
        "colab": {
          "base_uri": "https://localhost:8080/"
        },
        "outputId": "ab58d061-baf4-4710-fdb3-e43490786c19"
      },
      "source": [
        "# Dropping columns we do not need for this analysis\n",
        "# We are only dealing with Blue cars only for this project. \n",
        "\n",
        "df.drop(['utilib_taken_sum', 'utilib_returned_sum', 'utilib_14_taken_sum', 'utilib_14_returned_sum'], axis = 1, inplace = True)"
      ],
      "execution_count": null,
      "outputs": [
        {
          "output_type": "stream",
          "text": [
            "/usr/local/lib/python3.7/dist-packages/pandas/core/frame.py:4174: SettingWithCopyWarning: \n",
            "A value is trying to be set on a copy of a slice from a DataFrame\n",
            "\n",
            "See the caveats in the documentation: https://pandas.pydata.org/pandas-docs/stable/user_guide/indexing.html#returning-a-view-versus-a-copy\n",
            "  errors=errors,\n"
          ],
          "name": "stderr"
        }
      ]
    },
    {
      "cell_type": "code",
      "metadata": {
        "id": "692tyNku4N6b",
        "colab": {
          "base_uri": "https://localhost:8080/",
          "height": 224
        },
        "outputId": "0fbc33f8-53a0-4739-a2e8-86d9e0a15833"
      },
      "source": [
        "# confirming that we only have the relevant columns\n",
        "\n",
        "df.head()"
      ],
      "execution_count": null,
      "outputs": [
        {
          "output_type": "execute_result",
          "data": {
            "text/html": [
              "<div>\n",
              "<style scoped>\n",
              "    .dataframe tbody tr th:only-of-type {\n",
              "        vertical-align: middle;\n",
              "    }\n",
              "\n",
              "    .dataframe tbody tr th {\n",
              "        vertical-align: top;\n",
              "    }\n",
              "\n",
              "    .dataframe thead th {\n",
              "        text-align: right;\n",
              "    }\n",
              "</style>\n",
              "<table border=\"1\" class=\"dataframe\">\n",
              "  <thead>\n",
              "    <tr style=\"text-align: right;\">\n",
              "      <th></th>\n",
              "      <th>postalcode</th>\n",
              "      <th>date</th>\n",
              "      <th>n_daily_data_points</th>\n",
              "      <th>dayofweek</th>\n",
              "      <th>day_type</th>\n",
              "      <th>bluecars_taken_sum</th>\n",
              "      <th>bluecars_returned_sum</th>\n",
              "      <th>slots_freed_sum</th>\n",
              "      <th>slots_taken_sum</th>\n",
              "    </tr>\n",
              "  </thead>\n",
              "  <tbody>\n",
              "    <tr>\n",
              "      <th>0</th>\n",
              "      <td>75001</td>\n",
              "      <td>1/1/2018</td>\n",
              "      <td>1440</td>\n",
              "      <td>0</td>\n",
              "      <td>weekday</td>\n",
              "      <td>110</td>\n",
              "      <td>103</td>\n",
              "      <td>22</td>\n",
              "      <td>20</td>\n",
              "    </tr>\n",
              "    <tr>\n",
              "      <th>1</th>\n",
              "      <td>75001</td>\n",
              "      <td>1/2/2018</td>\n",
              "      <td>1438</td>\n",
              "      <td>1</td>\n",
              "      <td>weekday</td>\n",
              "      <td>98</td>\n",
              "      <td>94</td>\n",
              "      <td>23</td>\n",
              "      <td>22</td>\n",
              "    </tr>\n",
              "    <tr>\n",
              "      <th>2</th>\n",
              "      <td>75001</td>\n",
              "      <td>1/3/2018</td>\n",
              "      <td>1439</td>\n",
              "      <td>2</td>\n",
              "      <td>weekday</td>\n",
              "      <td>138</td>\n",
              "      <td>139</td>\n",
              "      <td>27</td>\n",
              "      <td>27</td>\n",
              "    </tr>\n",
              "    <tr>\n",
              "      <th>3</th>\n",
              "      <td>75001</td>\n",
              "      <td>1/4/2018</td>\n",
              "      <td>1320</td>\n",
              "      <td>3</td>\n",
              "      <td>weekday</td>\n",
              "      <td>104</td>\n",
              "      <td>104</td>\n",
              "      <td>25</td>\n",
              "      <td>21</td>\n",
              "    </tr>\n",
              "    <tr>\n",
              "      <th>4</th>\n",
              "      <td>75001</td>\n",
              "      <td>1/5/2018</td>\n",
              "      <td>1440</td>\n",
              "      <td>4</td>\n",
              "      <td>weekday</td>\n",
              "      <td>114</td>\n",
              "      <td>117</td>\n",
              "      <td>18</td>\n",
              "      <td>20</td>\n",
              "    </tr>\n",
              "  </tbody>\n",
              "</table>\n",
              "</div>"
            ],
            "text/plain": [
              "   postalcode      date  ...  slots_freed_sum  slots_taken_sum\n",
              "0       75001  1/1/2018  ...               22               20\n",
              "1       75001  1/2/2018  ...               23               22\n",
              "2       75001  1/3/2018  ...               27               27\n",
              "3       75001  1/4/2018  ...               25               21\n",
              "4       75001  1/5/2018  ...               18               20\n",
              "\n",
              "[5 rows x 9 columns]"
            ]
          },
          "metadata": {
            "tags": []
          },
          "execution_count": 58
        }
      ]
    },
    {
      "cell_type": "markdown",
      "metadata": {
        "id": "sr3y-lawD8YO"
      },
      "source": [
        "## 1.3.2 Missing values"
      ]
    },
    {
      "cell_type": "code",
      "metadata": {
        "id": "KHa3Hr9jDXZq",
        "colab": {
          "base_uri": "https://localhost:8080/"
        },
        "outputId": "9afcfea2-6bd0-4a94-f204-47682d3806ea"
      },
      "source": [
        "# Checking for missing values in our dataset by column\n",
        "\n",
        "df.isnull().sum()\n",
        "\n",
        "\n",
        "# we have no missing values from the output below."
      ],
      "execution_count": null,
      "outputs": [
        {
          "output_type": "execute_result",
          "data": {
            "text/plain": [
              "postalcode               0\n",
              "date                     0\n",
              "n_daily_data_points      0\n",
              "dayofweek                0\n",
              "day_type                 0\n",
              "bluecars_taken_sum       0\n",
              "bluecars_returned_sum    0\n",
              "slots_freed_sum          0\n",
              "slots_taken_sum          0\n",
              "dtype: int64"
            ]
          },
          "metadata": {
            "tags": []
          },
          "execution_count": 59
        }
      ]
    },
    {
      "cell_type": "markdown",
      "metadata": {
        "id": "FHqHfh1FEXuo"
      },
      "source": [
        "## 1.3.3 Anomalies"
      ]
    },
    {
      "cell_type": "code",
      "metadata": {
        "id": "P4DtzNOrEVyA",
        "colab": {
          "base_uri": "https://localhost:8080/"
        },
        "outputId": "6b5218cf-6fc5-4e59-ce55-9346efff17af"
      },
      "source": [
        "# Checking for Anomalies\n",
        "\n",
        "# checking for duplicates \n",
        "\n",
        "df_duplicate = df[df.duplicated()]\n",
        "df_duplicate.shape\n",
        "\n",
        "\n",
        "# There are no duplicates in all the rows."
      ],
      "execution_count": null,
      "outputs": [
        {
          "output_type": "execute_result",
          "data": {
            "text/plain": [
              "(0, 9)"
            ]
          },
          "metadata": {
            "tags": []
          },
          "execution_count": 60
        }
      ]
    },
    {
      "cell_type": "markdown",
      "metadata": {
        "id": "rh85OfkmERqK"
      },
      "source": [
        "## 1.3.3 Outliers"
      ]
    },
    {
      "cell_type": "markdown",
      "metadata": {
        "id": "NbslTS3vdYkS"
      },
      "source": [
        "### 1.3.3.1 Boxplots"
      ]
    },
    {
      "cell_type": "code",
      "metadata": {
        "id": "uJ-nb-DsECYH",
        "colab": {
          "base_uri": "https://localhost:8080/",
          "height": 352
        },
        "outputId": "12e72f6e-407b-4fb4-d946-525fd5d0c20c"
      },
      "source": [
        "# Using box plots to check for outliers\n",
        "\n",
        "# checking for outliers on the variable (bluecars_taken_sum) using boxplot\n",
        "\n",
        "# Specifying the dots per inch in our chart\n",
        "# Using pandas to create a boxplot\n",
        "# Giving a title to our chart\n",
        "# Displaying our chart\n",
        "\n",
        "\n",
        "\n",
        "plt.figure(dpi = 90)\n",
        "df.boxplot(['bluecars_taken_sum'])\n",
        "plt.title(\"A boxplot showing Number of bluecars taken in a certain day and area\", color = 'blue')\n",
        "plt.show()\n",
        "\n",
        "\n",
        "# The boxplot shows profusion of outliers indicated by the black points.\n",
        "# We will not remove them here.\n",
        "# we shall investigate them instead."
      ],
      "execution_count": null,
      "outputs": [
        {
          "output_type": "display_data",
          "data": {
            "image/png": "[encoded data removed]",
            "text/plain": [
              "<Figure size 540x360 with 1 Axes>"
            ]
          },
          "metadata": {
            "tags": [],
            "needs_background": "light"
          }
        }
      ]
    },
    {
      "cell_type": "code",
      "metadata": {
        "id": "z6lJ8bmwdyBB",
        "colab": {
          "base_uri": "https://localhost:8080/",
          "height": 425
        },
        "outputId": "a1daf361-1bf2-4e95-a75c-7319fee9ecc5"
      },
      "source": [
        "# Using box plots to check for outliers\n",
        "\n",
        "# checking for outliers on the bluecars_returned_sum using boxplot\n",
        "\n",
        "# Chart size specifications\n",
        "# Using seaborn to create a boxplot\n",
        "# Giving a title to our chart\n",
        "# Displaying our chart\n",
        "\n",
        "\n",
        "\n",
        "plt.figure(dpi = 90)\n",
        "sns.boxplot(df['bluecars_returned_sum'], showmeans = True , color = 'purple')\n",
        "plt.title(\"A boxplot showing Number of bluecars returned during a particular day in an area\", color = 'black')\n",
        "plt.show()\n",
        "\n",
        "\n",
        "# The boxplot shows profusion of outliers shown by the black shaded points\n",
        "# We will not remove them here.\n",
        "# we shall investigate them instead.\n"
      ],
      "execution_count": null,
      "outputs": [
        {
          "output_type": "stream",
          "text": [
            "/usr/local/lib/python3.7/dist-packages/seaborn/_decorators.py:43: FutureWarning: Pass the following variable as a keyword arg: x. From version 0.12, the only valid positional argument will be `data`, and passing other arguments without an explicit keyword will result in an error or misinterpretation.\n",
            "  FutureWarning\n"
          ],
          "name": "stderr"
        },
        {
          "output_type": "display_data",
          "data": {
            "image/png": "[encoded data removed]",
            "text/plain": [
              "<Figure size 540x360 with 1 Axes>"
            ]
          },
          "metadata": {
            "tags": [],
            "needs_background": "light"
          }
        }
      ]
    },
    {
      "cell_type": "markdown",
      "metadata": {
        "id": "jpHlGIaNkO4D"
      },
      "source": [
        "# 1.4 UNIVARIATE ANALYSIS"
      ]
    },
    {
      "cell_type": "markdown",
      "metadata": {
        "id": "lQJg-FW9kZop"
      },
      "source": [
        "## 1.4.1 Visualizations"
      ]
    },
    {
      "cell_type": "markdown",
      "metadata": {
        "id": "JIn7ETIykelq"
      },
      "source": [
        "### 1.4.1.1 Histogram"
      ]
    },
    {
      "cell_type": "code",
      "metadata": {
        "id": "bgTaNfaYkXdH",
        "colab": {
          "base_uri": "https://localhost:8080/",
          "height": 444
        },
        "outputId": "03a6e33a-c33c-4d37-fc1f-499ba847e220"
      },
      "source": [
        "# Histogram of the bluecars_taken sum\n",
        "\n",
        "# Using seaborn library to visaulize\n",
        "# specifying the grid size and style settings\n",
        "# Giving our chart a title\n",
        "# Displaying the x axis at a 45 degree angle\n",
        "# Displaying our chart\n",
        "\n",
        "\n",
        "plt.figure(dpi = 90)\n",
        "#sns.set_style(\"darkgrid\")\n",
        "sns.distplot(df[\"bluecars_taken_sum\"], kde = False, color = 'red')\n",
        "plt.title(\"A Histogram of number of bluecars taken in a particular date and area\", color = 'black')\n",
        "plt.xticks(rotation = 45)\n",
        "plt.show()\n",
        "\n",
        "\n",
        "\n",
        "# the histogram shows us that the blue cars taken distribution is skewed to the right\n",
        "# this is because the tail is long to the right hand side\n",
        "\n",
        "\n",
        "\n",
        "# In a perfect normal distribution, the tails on either side of the curve are exact mirror images of each other.\n",
        "\n",
        "# When a distribution is skewed to the left, the tail on the curve’s left-hand side is longer than the tail on the right-hand side,\n",
        "# and the mean is less than the mode. This situation is also called negative skewness.\n",
        "\n",
        "# When a distribution is skewed to the right, the tail on the curve’s right-hand side is longer than the tail on the left-hand side, \n",
        "# and the mean is greater than the mode. This situation is also called positive skewness."
      ],
      "execution_count": null,
      "outputs": [
        {
          "output_type": "stream",
          "text": [
            "/usr/local/lib/python3.7/dist-packages/seaborn/distributions.py:2557: FutureWarning: `distplot` is a deprecated function and will be removed in a future version. Please adapt your code to use either `displot` (a figure-level function with similar flexibility) or `histplot` (an axes-level function for histograms).\n",
            "  warnings.warn(msg, FutureWarning)\n"
          ],
          "name": "stderr"
        },
        {
          "output_type": "display_data",
          "data": {
            "image/png": "[encoded data removed]",
            "text/plain": [
              "<Figure size 540x360 with 1 Axes>"
            ]
          },
          "metadata": {
            "tags": [],
            "needs_background": "light"
          }
        }
      ]
    },
    {
      "cell_type": "code",
      "metadata": {
        "id": "Bpk5Zs2HgeYr",
        "colab": {
          "base_uri": "https://localhost:8080/",
          "height": 444
        },
        "outputId": "b4c89b24-f265-4a4b-e1e4-5d2e4c3a0774"
      },
      "source": [
        "# Histogram of the bluecars_returned sum\n",
        "\n",
        "# Using seaborn library to visualize\n",
        "# specifying the grid size and style settings\n",
        "# Giving our chart a title\n",
        "# Displaying the x axis at a 45 degree angle\n",
        "# Displaying our chart\n",
        "\n",
        "\n",
        "plt.figure(dpi = 90)\n",
        "sns.set_style(\"darkgrid\")\n",
        "sns.distplot(df[\"bluecars_returned_sum\"], kde = False, color = 'navy')\n",
        "plt.title(\"A Histogram of number of bluecars returned in a particular date and area\", color = 'black')\n",
        "plt.xticks(rotation = 45)\n",
        "plt.show()\n",
        "\n",
        "\n",
        "# the histogram shows us that the blue cars returned distribution is skewed to the right\n",
        "# this is because the tail is long to the right side"
      ],
      "execution_count": null,
      "outputs": [
        {
          "output_type": "stream",
          "text": [
            "/usr/local/lib/python3.7/dist-packages/seaborn/distributions.py:2557: FutureWarning: `distplot` is a deprecated function and will be removed in a future version. Please adapt your code to use either `displot` (a figure-level function with similar flexibility) or `histplot` (an axes-level function for histograms).\n",
            "  warnings.warn(msg, FutureWarning)\n"
          ],
          "name": "stderr"
        },
        {
          "output_type": "display_data",
          "data": {
            "image/png": "[encoded data removed]",
            "text/plain": [
              "<Figure size 540x360 with 1 Axes>"
            ]
          },
          "metadata": {
            "tags": [],
            "needs_background": "light"
          }
        }
      ]
    },
    {
      "cell_type": "markdown",
      "metadata": {
        "id": "xVGQ8y1qsbX3"
      },
      "source": [
        "### 1.4.1.2 Bar Charts"
      ]
    },
    {
      "cell_type": "code",
      "metadata": {
        "id": "pGP3SVWb477S",
        "colab": {
          "base_uri": "https://localhost:8080/",
          "height": 425
        },
        "outputId": "bed9037b-de3a-44ac-8d7f-51635b431e30"
      },
      "source": [
        "#  Plotting a bar plot of day_type\tvariable \n",
        "# NOTE: I used the original dataset to show the comparison between weekdays and weekends frequencies.\n",
        "\n",
        "# Using seaborn to create a bar chart\n",
        "# specifying our chart size\n",
        "# Giving a title to our chart\n",
        "# Displaying our chart\n",
        "\n",
        "plt.figure(dpi = 90)\n",
        "sns.set_style('darkgrid')\n",
        "sns.countplot(df.day_type)\n",
        "plt.title('A Bar chart of the day type ', color = 'black')\n",
        "plt.show()\n",
        "\n",
        "\n",
        "# The bar chart shows that blue cars usage is more during weekdays than during the weekend."
      ],
      "execution_count": null,
      "outputs": [
        {
          "output_type": "stream",
          "text": [
            "/usr/local/lib/python3.7/dist-packages/seaborn/_decorators.py:43: FutureWarning: Pass the following variable as a keyword arg: x. From version 0.12, the only valid positional argument will be `data`, and passing other arguments without an explicit keyword will result in an error or misinterpretation.\n",
            "  FutureWarning\n"
          ],
          "name": "stderr"
        },
        {
          "output_type": "display_data",
          "data": {
            "image/png": "[encoded data removed]",
            "text/plain": [
              "<Figure size 540x360 with 1 Axes>"
            ]
          },
          "metadata": {
            "tags": []
          }
        }
      ]
    },
    {
      "cell_type": "code",
      "metadata": {
        "id": "GbZnAscYD9pW",
        "colab": {
          "base_uri": "https://localhost:8080/"
        },
        "outputId": "4a0e78d7-908c-4e8c-d3c3-4da0eac689f7"
      },
      "source": [
        "# Converting the day of week from from numericals to strings for plotting\n",
        "# Using the mapping function\n",
        "# \n",
        "\n",
        "df['dayofweek'] = df.dayofweek.map({0: 'Monday', 1: 'Tuesday', 2: 'Wednesday', 3: 'Thursday', 4: 'Friday'})\n"
      ],
      "execution_count": null,
      "outputs": [
        {
          "output_type": "stream",
          "text": [
            "/usr/local/lib/python3.7/dist-packages/ipykernel_launcher.py:5: SettingWithCopyWarning: \n",
            "A value is trying to be set on a copy of a slice from a DataFrame.\n",
            "Try using .loc[row_indexer,col_indexer] = value instead\n",
            "\n",
            "See the caveats in the documentation: https://pandas.pydata.org/pandas-docs/stable/user_guide/indexing.html#returning-a-view-versus-a-copy\n",
            "  \"\"\"\n"
          ],
          "name": "stderr"
        }
      ]
    },
    {
      "cell_type": "code",
      "metadata": {
        "id": "AXdCJjjFP0mp",
        "colab": {
          "base_uri": "https://localhost:8080/",
          "height": 224
        },
        "outputId": "a058b18c-c2b9-48f8-e1e9-5b2c964c6c23"
      },
      "source": [
        "# Confirming that our dataset day_type columns was successfully converted to categories\n",
        "\n",
        "df.tail()"
      ],
      "execution_count": null,
      "outputs": [
        {
          "output_type": "execute_result",
          "data": {
            "text/html": [
              "<div>\n",
              "<style scoped>\n",
              "    .dataframe tbody tr th:only-of-type {\n",
              "        vertical-align: middle;\n",
              "    }\n",
              "\n",
              "    .dataframe tbody tr th {\n",
              "        vertical-align: top;\n",
              "    }\n",
              "\n",
              "    .dataframe thead th {\n",
              "        text-align: right;\n",
              "    }\n",
              "</style>\n",
              "<table border=\"1\" class=\"dataframe\">\n",
              "  <thead>\n",
              "    <tr style=\"text-align: right;\">\n",
              "      <th></th>\n",
              "      <th>postalcode</th>\n",
              "      <th>date</th>\n",
              "      <th>n_daily_data_points</th>\n",
              "      <th>dayofweek</th>\n",
              "      <th>day_type</th>\n",
              "      <th>bluecars_taken_sum</th>\n",
              "      <th>bluecars_returned_sum</th>\n",
              "      <th>slots_freed_sum</th>\n",
              "      <th>slots_taken_sum</th>\n",
              "    </tr>\n",
              "  </thead>\n",
              "  <tbody>\n",
              "    <tr>\n",
              "      <th>16078</th>\n",
              "      <td>95880</td>\n",
              "      <td>6/13/2018</td>\n",
              "      <td>1440</td>\n",
              "      <td>Wednesday</td>\n",
              "      <td>weekday</td>\n",
              "      <td>12</td>\n",
              "      <td>13</td>\n",
              "      <td>0</td>\n",
              "      <td>0</td>\n",
              "    </tr>\n",
              "    <tr>\n",
              "      <th>16079</th>\n",
              "      <td>95880</td>\n",
              "      <td>6/14/2018</td>\n",
              "      <td>1439</td>\n",
              "      <td>Thursday</td>\n",
              "      <td>weekday</td>\n",
              "      <td>15</td>\n",
              "      <td>13</td>\n",
              "      <td>0</td>\n",
              "      <td>0</td>\n",
              "    </tr>\n",
              "    <tr>\n",
              "      <th>16080</th>\n",
              "      <td>95880</td>\n",
              "      <td>6/15/2018</td>\n",
              "      <td>1440</td>\n",
              "      <td>Friday</td>\n",
              "      <td>weekday</td>\n",
              "      <td>15</td>\n",
              "      <td>10</td>\n",
              "      <td>0</td>\n",
              "      <td>0</td>\n",
              "    </tr>\n",
              "    <tr>\n",
              "      <th>16083</th>\n",
              "      <td>95880</td>\n",
              "      <td>6/18/2018</td>\n",
              "      <td>1440</td>\n",
              "      <td>Monday</td>\n",
              "      <td>weekday</td>\n",
              "      <td>11</td>\n",
              "      <td>14</td>\n",
              "      <td>0</td>\n",
              "      <td>0</td>\n",
              "    </tr>\n",
              "    <tr>\n",
              "      <th>16084</th>\n",
              "      <td>95880</td>\n",
              "      <td>6/19/2018</td>\n",
              "      <td>1370</td>\n",
              "      <td>Tuesday</td>\n",
              "      <td>weekday</td>\n",
              "      <td>2</td>\n",
              "      <td>2</td>\n",
              "      <td>0</td>\n",
              "      <td>0</td>\n",
              "    </tr>\n",
              "  </tbody>\n",
              "</table>\n",
              "</div>"
            ],
            "text/plain": [
              "       postalcode       date  ...  slots_freed_sum slots_taken_sum\n",
              "16078       95880  6/13/2018  ...                0               0\n",
              "16079       95880  6/14/2018  ...                0               0\n",
              "16080       95880  6/15/2018  ...                0               0\n",
              "16083       95880  6/18/2018  ...                0               0\n",
              "16084       95880  6/19/2018  ...                0               0\n",
              "\n",
              "[5 rows x 9 columns]"
            ]
          },
          "metadata": {
            "tags": []
          },
          "execution_count": 67
        }
      ]
    },
    {
      "cell_type": "code",
      "metadata": {
        "id": "Vw-vMVlMxW38",
        "colab": {
          "base_uri": "https://localhost:8080/",
          "height": 584
        },
        "outputId": "6c065675-8d6e-4211-fd7b-a14bba52b313"
      },
      "source": [
        "# # Plotting a horizontal bar plot of the day of week categories \n",
        "\n",
        "# grouping the data to be plotted\n",
        "\n",
        "day = df.dayofweek.value_counts()\n",
        "day\n",
        "\n",
        "# accessing the data to plot\n",
        "\n",
        "# labels\n",
        "sizes= day.index\n",
        "sizes\n",
        "\n",
        "# values\n",
        "data = day.values\n",
        "data\n",
        "\n",
        "# Using matplotlib to create a bar chart\n",
        "# specifying our chart size\n",
        "# labeling the y axis\n",
        "# labeling the x axis\n",
        "# Giving a title to our chart\n",
        "# Displaying our chart\n",
        "\n",
        "plt.figure(figsize = (7,7), dpi = 90)\n",
        "plt.barh(sizes, data, color = 'navy')\n",
        "plt.ylabel(\"Day of week\")\n",
        "plt.xlabel('Frequency')\n",
        "plt.title(\"A Bar chart of day of week frequencies\", color = 'black')\n",
        "plt.show()\n",
        "\n",
        "# from the horizontal bar chart, most activities involving picking, returning, and charging blues cars took place of Monday and Tuesday\n",
        "# We shall check these activities this in a more defined way in our bivariate analysis.\n",
        "# Also, lets see how a pie charts represents this information in the next step\n"
      ],
      "execution_count": null,
      "outputs": [
        {
          "output_type": "display_data",
          "data": {
            "image/png": "[encoded data removed]",
            "text/plain": [
              "<Figure size 630x630 with 1 Axes>"
            ]
          },
          "metadata": {
            "tags": []
          }
        }
      ]
    },
    {
      "cell_type": "code",
      "metadata": {
        "id": "fYS1NywmLpMG",
        "colab": {
          "base_uri": "https://localhost:8080/",
          "height": 558
        },
        "outputId": "505d9bf2-2544-46f4-92aa-294e211198ca"
      },
      "source": [
        "# # Plotting a Pie chart of the day of week categories \n",
        "\n",
        "# grouping the data to be plotted\n",
        "\n",
        "day2 = df.dayofweek.value_counts()\n",
        "day2\n",
        "\n",
        "# accessing the data to plot\n",
        "\n",
        "# labels\n",
        "sizes2= day.index\n",
        "sizes2\n",
        "\n",
        "# values\n",
        "data2 = day.values\n",
        "data2\n",
        "\n",
        "# Using matplotlib to create a pie chart\n",
        "# specifying our chart size\n",
        "# labeling the y axis\n",
        "# labeling the x axis\n",
        "# Giving a title to our chart\n",
        "# Displaying our chart\n",
        "\n",
        "plt.figure(figsize = (7,7), dpi = 90)\n",
        "plt.pie(data2, labels = sizes2, autopct = '%1.1f%%', shadow = True, explode = (0,0,0.1,0,0), startangle = 140)\n",
        "plt.ylabel(\"Day of week\")\n",
        "plt.xlabel('Frequency')\n",
        "plt.title(\"A Pie chart of day of week frequencies\", color = 'black')\n",
        "plt.show()\n",
        "\n",
        "\n",
        "# just like in the horizontal bar chart the activities (taking, returning, and charging) surrounding blue cars seem to be \n",
        "# equally the same throughout the week except\n",
        "# on Mondays and Tuesdays where the seems to be slightly more activities compared to other days."
      ],
      "execution_count": null,
      "outputs": [
        {
          "output_type": "display_data",
          "data": {
            "image/png": "[encoded data removed]",
            "text/plain": [
              "<Figure size 630x630 with 1 Axes>"
            ]
          },
          "metadata": {
            "tags": []
          }
        }
      ]
    },
    {
      "cell_type": "markdown",
      "metadata": {
        "id": "ZsCIrqcVEzKp"
      },
      "source": [
        "## 1.4.2 Frequency tables"
      ]
    },
    {
      "cell_type": "code",
      "metadata": {
        "id": "LyjtmaCmKQO-",
        "colab": {
          "base_uri": "https://localhost:8080/",
          "height": 700
        },
        "outputId": "593d6e7e-f4b8-430f-f42e-db304e0a7c2b"
      },
      "source": [
        "# Frequency table of number of daily data points that were available for aggregation, that day \n",
        "\n",
        "# Making a crosstab\n",
        "# Naming the count column\n",
        "\n",
        "s = pd.crosstab(index = df['n_daily_data_points'], columns = 'count')\n",
        "s\n",
        "\n",
        "# 1440 was the most frequent number of daily data points that were available for aggregation in most days"
      ],
      "execution_count": null,
      "outputs": [
        {
          "output_type": "execute_result",
          "data": {
            "text/html": [
              "<div>\n",
              "<style scoped>\n",
              "    .dataframe tbody tr th:only-of-type {\n",
              "        vertical-align: middle;\n",
              "    }\n",
              "\n",
              "    .dataframe tbody tr th {\n",
              "        vertical-align: top;\n",
              "    }\n",
              "\n",
              "    .dataframe thead th {\n",
              "        text-align: right;\n",
              "    }\n",
              "</style>\n",
              "<table border=\"1\" class=\"dataframe\">\n",
              "  <thead>\n",
              "    <tr style=\"text-align: right;\">\n",
              "      <th>col_0</th>\n",
              "      <th>count</th>\n",
              "    </tr>\n",
              "    <tr>\n",
              "      <th>n_daily_data_points</th>\n",
              "      <th></th>\n",
              "    </tr>\n",
              "  </thead>\n",
              "  <tbody>\n",
              "    <tr>\n",
              "      <th>1174</th>\n",
              "      <td>104</td>\n",
              "    </tr>\n",
              "    <tr>\n",
              "      <th>1203</th>\n",
              "      <td>103</td>\n",
              "    </tr>\n",
              "    <tr>\n",
              "      <th>1320</th>\n",
              "      <td>103</td>\n",
              "    </tr>\n",
              "    <tr>\n",
              "      <th>1364</th>\n",
              "      <td>103</td>\n",
              "    </tr>\n",
              "    <tr>\n",
              "      <th>1370</th>\n",
              "      <td>94</td>\n",
              "    </tr>\n",
              "    <tr>\n",
              "      <th>1377</th>\n",
              "      <td>102</td>\n",
              "    </tr>\n",
              "    <tr>\n",
              "      <th>1389</th>\n",
              "      <td>103</td>\n",
              "    </tr>\n",
              "    <tr>\n",
              "      <th>1398</th>\n",
              "      <td>104</td>\n",
              "    </tr>\n",
              "    <tr>\n",
              "      <th>1411</th>\n",
              "      <td>104</td>\n",
              "    </tr>\n",
              "    <tr>\n",
              "      <th>1417</th>\n",
              "      <td>206</td>\n",
              "    </tr>\n",
              "    <tr>\n",
              "      <th>1420</th>\n",
              "      <td>103</td>\n",
              "    </tr>\n",
              "    <tr>\n",
              "      <th>1425</th>\n",
              "      <td>207</td>\n",
              "    </tr>\n",
              "    <tr>\n",
              "      <th>1429</th>\n",
              "      <td>104</td>\n",
              "    </tr>\n",
              "    <tr>\n",
              "      <th>1434</th>\n",
              "      <td>207</td>\n",
              "    </tr>\n",
              "    <tr>\n",
              "      <th>1435</th>\n",
              "      <td>104</td>\n",
              "    </tr>\n",
              "    <tr>\n",
              "      <th>1436</th>\n",
              "      <td>104</td>\n",
              "    </tr>\n",
              "    <tr>\n",
              "      <th>1437</th>\n",
              "      <td>308</td>\n",
              "    </tr>\n",
              "    <tr>\n",
              "      <th>1438</th>\n",
              "      <td>516</td>\n",
              "    </tr>\n",
              "    <tr>\n",
              "      <th>1439</th>\n",
              "      <td>2269</td>\n",
              "    </tr>\n",
              "    <tr>\n",
              "      <th>1440</th>\n",
              "      <td>6496</td>\n",
              "    </tr>\n",
              "  </tbody>\n",
              "</table>\n",
              "</div>"
            ],
            "text/plain": [
              "col_0                count\n",
              "n_daily_data_points       \n",
              "1174                   104\n",
              "1203                   103\n",
              "1320                   103\n",
              "1364                   103\n",
              "1370                    94\n",
              "1377                   102\n",
              "1389                   103\n",
              "1398                   104\n",
              "1411                   104\n",
              "1417                   206\n",
              "1420                   103\n",
              "1425                   207\n",
              "1429                   104\n",
              "1434                   207\n",
              "1435                   104\n",
              "1436                   104\n",
              "1437                   308\n",
              "1438                   516\n",
              "1439                  2269\n",
              "1440                  6496"
            ]
          },
          "metadata": {
            "tags": []
          },
          "execution_count": 68
        }
      ]
    },
    {
      "cell_type": "code",
      "metadata": {
        "id": "xQ_saBlwVQzp"
      },
      "source": [
        "# Frequency tables showing two or more variables \n",
        "\n",
        "# This is more of a bivariate analysis but it the best way to present the below tables,\n",
        "\n",
        "# To provide better insights"
      ],
      "execution_count": null,
      "outputs": []
    },
    {
      "cell_type": "code",
      "metadata": {
        "id": "lj7UWEH0Cp5H",
        "colab": {
          "base_uri": "https://localhost:8080/",
          "height": 235
        },
        "outputId": "a7d7613d-06e7-4071-e8bb-7be99694059a"
      },
      "source": [
        "# Frequency table of charging slots freed/released vs slots taken by day of the week\n",
        "\n",
        "\n",
        "df.groupby('dayofweek')[['slots_freed_sum', 'slots_taken_sum']].count()\n",
        "\n",
        "\n",
        "# From the table the number of charging slots freed vs the slots taken is equal\n",
        "# "
      ],
      "execution_count": null,
      "outputs": [
        {
          "output_type": "execute_result",
          "data": {
            "text/html": [
              "<div>\n",
              "<style scoped>\n",
              "    .dataframe tbody tr th:only-of-type {\n",
              "        vertical-align: middle;\n",
              "    }\n",
              "\n",
              "    .dataframe tbody tr th {\n",
              "        vertical-align: top;\n",
              "    }\n",
              "\n",
              "    .dataframe thead th {\n",
              "        text-align: right;\n",
              "    }\n",
              "</style>\n",
              "<table border=\"1\" class=\"dataframe\">\n",
              "  <thead>\n",
              "    <tr style=\"text-align: right;\">\n",
              "      <th></th>\n",
              "      <th>slots_freed_sum</th>\n",
              "      <th>slots_taken_sum</th>\n",
              "    </tr>\n",
              "    <tr>\n",
              "      <th>dayofweek</th>\n",
              "      <th></th>\n",
              "      <th></th>\n",
              "    </tr>\n",
              "  </thead>\n",
              "  <tbody>\n",
              "    <tr>\n",
              "      <th>Friday</th>\n",
              "      <td>2271</td>\n",
              "      <td>2271</td>\n",
              "    </tr>\n",
              "    <tr>\n",
              "      <th>Monday</th>\n",
              "      <td>2374</td>\n",
              "      <td>2374</td>\n",
              "    </tr>\n",
              "    <tr>\n",
              "      <th>Thursday</th>\n",
              "      <td>2268</td>\n",
              "      <td>2268</td>\n",
              "    </tr>\n",
              "    <tr>\n",
              "      <th>Tuesday</th>\n",
              "      <td>2363</td>\n",
              "      <td>2363</td>\n",
              "    </tr>\n",
              "    <tr>\n",
              "      <th>Wednesday</th>\n",
              "      <td>2268</td>\n",
              "      <td>2268</td>\n",
              "    </tr>\n",
              "  </tbody>\n",
              "</table>\n",
              "</div>"
            ],
            "text/plain": [
              "           slots_freed_sum  slots_taken_sum\n",
              "dayofweek                                  \n",
              "Friday                2271             2271\n",
              "Monday                2374             2374\n",
              "Thursday              2268             2268\n",
              "Tuesday               2363             2363\n",
              "Wednesday             2268             2268"
            ]
          },
          "metadata": {
            "tags": []
          },
          "execution_count": 69
        }
      ]
    },
    {
      "cell_type": "code",
      "metadata": {
        "id": "TK-M-6IbDVZH",
        "colab": {
          "base_uri": "https://localhost:8080/",
          "height": 235
        },
        "outputId": "f5a8eab9-cda9-4794-9bf8-b90970f2977e"
      },
      "source": [
        "# Frequency table showing sums of bluecars taken vs bluecars returned by day of week\n",
        "\n",
        "df.groupby('dayofweek')[['bluecars_taken_sum' ,'bluecars_returned_sum']].sum()\n",
        "\n",
        "\n",
        "# the sums are different\n",
        "# this means that not all cars taken in day are returned the same day\n"
      ],
      "execution_count": null,
      "outputs": [
        {
          "output_type": "execute_result",
          "data": {
            "text/html": [
              "<div>\n",
              "<style scoped>\n",
              "    .dataframe tbody tr th:only-of-type {\n",
              "        vertical-align: middle;\n",
              "    }\n",
              "\n",
              "    .dataframe tbody tr th {\n",
              "        vertical-align: top;\n",
              "    }\n",
              "\n",
              "    .dataframe thead th {\n",
              "        text-align: right;\n",
              "    }\n",
              "</style>\n",
              "<table border=\"1\" class=\"dataframe\">\n",
              "  <thead>\n",
              "    <tr style=\"text-align: right;\">\n",
              "      <th></th>\n",
              "      <th>bluecars_taken_sum</th>\n",
              "      <th>bluecars_returned_sum</th>\n",
              "    </tr>\n",
              "    <tr>\n",
              "      <th>dayofweek</th>\n",
              "      <th></th>\n",
              "      <th></th>\n",
              "    </tr>\n",
              "  </thead>\n",
              "  <tbody>\n",
              "    <tr>\n",
              "      <th>Friday</th>\n",
              "      <td>288546</td>\n",
              "      <td>286029</td>\n",
              "    </tr>\n",
              "    <tr>\n",
              "      <th>Monday</th>\n",
              "      <td>263893</td>\n",
              "      <td>264808</td>\n",
              "    </tr>\n",
              "    <tr>\n",
              "      <th>Thursday</th>\n",
              "      <td>263207</td>\n",
              "      <td>262961</td>\n",
              "    </tr>\n",
              "    <tr>\n",
              "      <th>Tuesday</th>\n",
              "      <td>261940</td>\n",
              "      <td>260470</td>\n",
              "    </tr>\n",
              "    <tr>\n",
              "      <th>Wednesday</th>\n",
              "      <td>261849</td>\n",
              "      <td>260673</td>\n",
              "    </tr>\n",
              "  </tbody>\n",
              "</table>\n",
              "</div>"
            ],
            "text/plain": [
              "           bluecars_taken_sum  bluecars_returned_sum\n",
              "dayofweek                                           \n",
              "Friday                 288546                 286029\n",
              "Monday                 263893                 264808\n",
              "Thursday               263207                 262961\n",
              "Tuesday                261940                 260470\n",
              "Wednesday              261849                 260673"
            ]
          },
          "metadata": {
            "tags": []
          },
          "execution_count": 70
        }
      ]
    },
    {
      "cell_type": "code",
      "metadata": {
        "id": "t4gj5L6iRSXt",
        "colab": {
          "base_uri": "https://localhost:8080/"
        },
        "outputId": "ffde10db-7ec1-420b-df1d-42e09d678e8a"
      },
      "source": [
        "# Frequency table showing sum of bluecars taken by day of week in ascending order.\n",
        "\n",
        "df.groupby('dayofweek')['bluecars_taken_sum'].sum().sort_values()\n",
        "\n",
        "\n",
        "\n",
        "# Friday was when most blue cars were taken.\n",
        "# while Wednesday was when the least number of blue cars were taken."
      ],
      "execution_count": null,
      "outputs": [
        {
          "output_type": "execute_result",
          "data": {
            "text/plain": [
              "dayofweek\n",
              "Wednesday    261849\n",
              "Tuesday      261940\n",
              "Thursday     263207\n",
              "Monday       263893\n",
              "Friday       288546\n",
              "Name: bluecars_taken_sum, dtype: int64"
            ]
          },
          "metadata": {
            "tags": []
          },
          "execution_count": 71
        }
      ]
    },
    {
      "cell_type": "code",
      "metadata": {
        "id": "yEYi_-RdRSTR",
        "colab": {
          "base_uri": "https://localhost:8080/"
        },
        "outputId": "49f7d898-1721-4195-9a2d-ee7640526d66"
      },
      "source": [
        "# Frequency table showing sum of bluecars returned by day of week in ascending order.\n",
        "\n",
        "df.groupby('dayofweek')['bluecars_returned_sum'].sum().sort_values()\n",
        "\n",
        "\n",
        "\n",
        "# Friday was when most blue cars were returned.\n",
        "# while Tuesday was when the least number of blue cars were returned."
      ],
      "execution_count": null,
      "outputs": [
        {
          "output_type": "execute_result",
          "data": {
            "text/plain": [
              "dayofweek\n",
              "Tuesday      260470\n",
              "Wednesday    260673\n",
              "Thursday     262961\n",
              "Monday       264808\n",
              "Friday       286029\n",
              "Name: bluecars_returned_sum, dtype: int64"
            ]
          },
          "metadata": {
            "tags": []
          },
          "execution_count": 72
        }
      ]
    },
    {
      "cell_type": "code",
      "metadata": {
        "id": "ubBILk1kVA3A",
        "colab": {
          "base_uri": "https://localhost:8080/"
        },
        "outputId": "c4973e58-64de-4dd4-cac6-6e4382d4cd6a"
      },
      "source": [
        "# Frequency table showing sum of charging slots released by day of week in ascending order.\n",
        "\n",
        "df.groupby('dayofweek')['slots_freed_sum'].sum().sort_values()\n",
        "\n",
        "\n",
        "\n",
        "# Friday was when most blue cars were released from charging slots.\n",
        "# while Monday was when the least number of blue cars were released from charging slots."
      ],
      "execution_count": null,
      "outputs": [
        {
          "output_type": "execute_result",
          "data": {
            "text/plain": [
              "dayofweek\n",
              "Monday       47022\n",
              "Tuesday      47095\n",
              "Wednesday    47331\n",
              "Thursday     48200\n",
              "Friday       52143\n",
              "Name: slots_freed_sum, dtype: int64"
            ]
          },
          "metadata": {
            "tags": []
          },
          "execution_count": 73
        }
      ]
    },
    {
      "cell_type": "code",
      "metadata": {
        "id": "3GW4dg11VFI8",
        "colab": {
          "base_uri": "https://localhost:8080/"
        },
        "outputId": "bfe74c1d-03a9-4a74-99c9-01681b579859"
      },
      "source": [
        "# Frequency table showing sum of charging slots taken by day of week in ascending order.\n",
        "\n",
        "df.groupby('dayofweek')['slots_taken_sum'].sum().sort_values()\n",
        "\n",
        "\n",
        "# Friday was when most blue cars were taken to charge slots for charging.\n",
        "# while Tuesday was when the least number of blue cars were taken to charge."
      ],
      "execution_count": null,
      "outputs": [
        {
          "output_type": "execute_result",
          "data": {
            "text/plain": [
              "dayofweek\n",
              "Tuesday      46969\n",
              "Monday       47068\n",
              "Wednesday    47223\n",
              "Thursday     48023\n",
              "Friday       52234\n",
              "Name: slots_taken_sum, dtype: int64"
            ]
          },
          "metadata": {
            "tags": []
          },
          "execution_count": 74
        }
      ]
    },
    {
      "cell_type": "code",
      "metadata": {
        "id": "F0msvTBk_CKs",
        "colab": {
          "base_uri": "https://localhost:8080/"
        },
        "outputId": "df2ccfdc-ac87-4a44-e02f-680e3307f692"
      },
      "source": [
        "# Frequency table of postal codes \n",
        "# In ascending order\n",
        "#\n",
        "\n",
        "df.postalcode.value_counts().sort_values()\n",
        "\n",
        "\n",
        "# There are quite a number of postal codes with the most number of times used.\n",
        "\n",
        "# the least used postal code is 93390."
      ],
      "execution_count": null,
      "outputs": [
        {
          "output_type": "execute_result",
          "data": {
            "text/plain": [
              "93390     59\n",
              "93200     90\n",
              "93370    105\n",
              "92340    105\n",
              "93150    107\n",
              "        ... \n",
              "75012    112\n",
              "75004    112\n",
              "78150    112\n",
              "93700    112\n",
              "94160    112\n",
              "Name: postalcode, Length: 104, dtype: int64"
            ]
          },
          "metadata": {
            "tags": []
          },
          "execution_count": 75
        }
      ]
    },
    {
      "cell_type": "markdown",
      "metadata": {
        "id": "dpkhHzyRx7T1"
      },
      "source": [
        "## 1.4.3 Measures of Central Tendency"
      ]
    },
    {
      "cell_type": "code",
      "metadata": {
        "id": "iF95ZpwPxnK6"
      },
      "source": [
        "# MEAN\n",
        "# Mean or Average is a central tendency of the data i.e. a number around which a whole data is spread out. \n"
      ],
      "execution_count": null,
      "outputs": []
    },
    {
      "cell_type": "code",
      "metadata": {
        "id": "1FsIkDaCxnFD",
        "colab": {
          "base_uri": "https://localhost:8080/"
        },
        "outputId": "49a244b1-b928-4217-d680-4823d4984014"
      },
      "source": [
        "# Here we  will use for loops to make our work easier.\n",
        "# Calculating mean of the target columns defined below.\n",
        "# Defining our loop\n",
        "# Specifying a space between each column's output\n",
        "# Displaying the mean by column\n",
        "\n",
        "cols = ['n_daily_data_points', 'bluecars_taken_sum', 'bluecars_returned_sum', 'slots_freed_sum',\n",
        "       'slots_taken_sum']\n",
        "\n",
        "\n",
        "\n",
        "for column in cols:\n",
        "  print(\"\\n\")\n",
        "  print('The mean ' + column + ' is : ' + str(df[column].mean()))\n",
        "\n",
        "\n",
        "  \n",
        "  # The output below shows the mean/average of each of the target column/variable.\n",
        "  # we can see that the average number of bluecars taken vs returned are nearly the same and \n",
        "  # the mean of freed slots vs taken charging slots.\n",
        "  "
      ],
      "execution_count": null,
      "outputs": [
        {
          "output_type": "stream",
          "text": [
            "\n",
            "\n",
            "The mean n_daily_data_points is : 1430.0072765072764\n",
            "\n",
            "\n",
            "The mean bluecars_taken_sum is : 116.0286729036729\n",
            "\n",
            "\n",
            "The mean bluecars_returned_sum is : 115.63937976437977\n",
            "\n",
            "\n",
            "The mean slots_freed_sum is : 20.94516632016632\n",
            "\n",
            "\n",
            "The mean slots_taken_sum is : 20.921431046431046\n"
          ],
          "name": "stdout"
        }
      ]
    },
    {
      "cell_type": "code",
      "metadata": {
        "id": "RG_8trHg8Ej3"
      },
      "source": [
        "## MODE\n",
        "# Mode is the term appearing maximum time in a given data set.\n",
        "# It is the term that has highest frequency."
      ],
      "execution_count": null,
      "outputs": []
    },
    {
      "cell_type": "code",
      "metadata": {
        "id": "XzqAh6Ai8EeQ",
        "colab": {
          "base_uri": "https://localhost:8080/"
        },
        "outputId": "2bbb9dbd-cf3f-4511-af55-ea40075ab80e"
      },
      "source": [
        "# Using for loops to find each variable's mode\n",
        "# Defining our loop\n",
        "# Specifying a space between each column's output\n",
        "# Displaying the mode by column\n",
        "\n",
        "\n",
        "for column in cols:\n",
        "  print('\\n')\n",
        "  print('The Mode of ' + column + ' is ; ' + str(df[column].mode()))\n",
        "  \n",
        "  \n",
        "# The output below shows the mode of each of the variables of interest.\n",
        "# the mode for bluecars returned vs taken is the same as well as the mode for the charging slots freed and taken."
      ],
      "execution_count": null,
      "outputs": [
        {
          "output_type": "stream",
          "text": [
            "\n",
            "\n",
            "The Mode of n_daily_data_points is ; 0    1440\n",
            "dtype: int64\n",
            "\n",
            "\n",
            "The Mode of bluecars_taken_sum is ; 0    12\n",
            "dtype: int64\n",
            "\n",
            "\n",
            "The Mode of bluecars_returned_sum is ; 0    12\n",
            "dtype: int64\n",
            "\n",
            "\n",
            "The Mode of slots_freed_sum is ; 0    0\n",
            "dtype: int64\n",
            "\n",
            "\n",
            "The Mode of slots_taken_sum is ; 0    0\n",
            "dtype: int64\n"
          ],
          "name": "stdout"
        }
      ]
    },
    {
      "cell_type": "code",
      "metadata": {
        "id": "l2xO2cdfCmTo"
      },
      "source": [
        "# Median\n",
        "# Median is the value which divides the data in 2 equal parts;\n",
        "# Number of terms on right side of it, is same as number of terms on left side of it when data is arranged in either ascending or descending order."
      ],
      "execution_count": null,
      "outputs": []
    },
    {
      "cell_type": "code",
      "metadata": {
        "id": "0u6wgmZC8EWo",
        "colab": {
          "base_uri": "https://localhost:8080/"
        },
        "outputId": "8b91e797-0981-45f8-a4f9-a3e44ec50a99"
      },
      "source": [
        "# Using for loops to find each variable's median\n",
        "# Defining our loop\n",
        "# Specifying a space between each column's output\n",
        "# Displaying the median by column\n",
        "\n",
        "\n",
        "for column in cols:\n",
        "  print('\\n')\n",
        "  print('The median of ' + column + ' is ; ' + str(df[column].median()))\n",
        "  \n",
        "  \n",
        "# the output indicates the median value of each variable defined in our columns of interest.\n",
        "# the median for bluecars returned vs taken is the same as well as the median for the charging slots freed and taken."
      ],
      "execution_count": null,
      "outputs": [
        {
          "output_type": "stream",
          "text": [
            "\n",
            "\n",
            "The median of n_daily_data_points is ; 1440.0\n",
            "\n",
            "\n",
            "The median of bluecars_taken_sum is ; 42.0\n",
            "\n",
            "\n",
            "The median of bluecars_returned_sum is ; 42.0\n",
            "\n",
            "\n",
            "The median of slots_freed_sum is ; 0.0\n",
            "\n",
            "\n",
            "The median of slots_taken_sum is ; 0.0\n"
          ],
          "name": "stdout"
        }
      ]
    },
    {
      "cell_type": "markdown",
      "metadata": {
        "id": "J5kkFcV5CFrv"
      },
      "source": [
        "## 1.4.4 Measures of Dispersion/Spread/Variability"
      ]
    },
    {
      "cell_type": "code",
      "metadata": {
        "id": "yuasgStWBuhD"
      },
      "source": [
        "# RANGE\n",
        "\n",
        "# It is the difference between lowest and highest value\n",
        "# find maximum value \n",
        "# find minimum value\n",
        "# range = max - min"
      ],
      "execution_count": null,
      "outputs": []
    },
    {
      "cell_type": "code",
      "metadata": {
        "id": "DBNxK287Bubz",
        "colab": {
          "base_uri": "https://localhost:8080/"
        },
        "outputId": "5c3323f8-cd7b-4d56-ed03-4d1e06e9bdf4"
      },
      "source": [
        "# Using functions to find range for each target column\n",
        "# Defining our function and parameters\n",
        "# Calculating the maximum value\n",
        "# Calculating the minimum value\n",
        "# Calculating the range\n",
        "# specify the return value as each column's range\n",
        "# \n",
        "\n",
        "# Incorporating a for loop to calculate range over all the target columns\n",
        "# Specifying spacing between each output\n",
        "# Printing the the output as each column's range\n",
        "\n",
        "\n",
        "def column_range(column):            \n",
        "  max_value = df[column].max()             \n",
        "  min_value = df[column].min()              \n",
        "  col_range = max_value - min_value        \n",
        "  return col_range                   \n",
        "\n",
        "for column in cols:                              \n",
        "  print('\\n')                                                 \n",
        "  print('The '+ column + ' range is: ' + str(column_range(column))) \n",
        "  \n",
        "  \n",
        "  \n",
        "  \n",
        "# The output shows the range for each column of interest here."
      ],
      "execution_count": null,
      "outputs": [
        {
          "output_type": "stream",
          "text": [
            "\n",
            "\n",
            "The n_daily_data_points range is: 266\n",
            "\n",
            "\n",
            "The bluecars_taken_sum range is: 1093\n",
            "\n",
            "\n",
            "The bluecars_returned_sum range is: 1056\n",
            "\n",
            "\n",
            "The slots_freed_sum range is: 288\n",
            "\n",
            "\n",
            "The slots_taken_sum range is: 294\n"
          ],
          "name": "stdout"
        }
      ]
    },
    {
      "cell_type": "code",
      "metadata": {
        "id": "Xe3a9VWUgTjQ"
      },
      "source": [
        "## INTERQUARTILE RANGE\n",
        "\n",
        "# QUANTILES\n",
        "\n",
        "# Quartiles are values that divide the data into quarters when data is sorted in an ascending order.\n",
        "\n",
        "# There are three quartile values. \n",
        "\n",
        "# Q1: First quartile is the 25 percentile. \n",
        "# Q2: Second quartile is the 50 percentile...also...median of the data\n",
        "# Q3: Third quartile is the 75 percentile. \n",
        "\n",
        "\n",
        "# THE INTERQUARTILE RANGE ...also ..IQR\n",
        "\n",
        "# IQR = Q3 -Q1"
      ],
      "execution_count": null,
      "outputs": []
    },
    {
      "cell_type": "code",
      "metadata": {
        "id": "7O-nwSDpBuVf",
        "colab": {
          "base_uri": "https://localhost:8080/"
        },
        "outputId": "3cc451c0-aebc-4344-aa9b-4440a35f02cc"
      },
      "source": [
        "# Calculating the quartiles of each column in our cols list\n",
        "# Using a for loop\n",
        "# Specifying a space between each column's output\n",
        "# Displaying the Quantiles by column in cols list\n",
        "\n",
        "\n",
        "for column in cols:\n",
        "  print('\\n')\n",
        "  print(df[column].quantile([0.25, 0.5, 0.75]))\n",
        "  \n",
        "  \n",
        "  \n",
        "# The output indicates the first, second, and third quartiles for each column"
      ],
      "execution_count": null,
      "outputs": [
        {
          "output_type": "stream",
          "text": [
            "\n",
            "\n",
            "0.25    1439.0\n",
            "0.50    1440.0\n",
            "0.75    1440.0\n",
            "Name: n_daily_data_points, dtype: float64\n",
            "\n",
            "\n",
            "0.25     18.0\n",
            "0.50     42.0\n",
            "0.75    126.0\n",
            "Name: bluecars_taken_sum, dtype: float64\n",
            "\n",
            "\n",
            "0.25     19.0\n",
            "0.50     42.0\n",
            "0.75    126.0\n",
            "Name: bluecars_returned_sum, dtype: float64\n",
            "\n",
            "\n",
            "0.25    0.0\n",
            "0.50    0.0\n",
            "0.75    4.0\n",
            "Name: slots_freed_sum, dtype: float64\n",
            "\n",
            "\n",
            "0.25    0.0\n",
            "0.50    0.0\n",
            "0.75    5.0\n",
            "Name: slots_taken_sum, dtype: float64\n"
          ],
          "name": "stdout"
        }
      ]
    },
    {
      "cell_type": "code",
      "metadata": {
        "id": "jNTZC1ejx3vE"
      },
      "source": [
        "\n",
        "# STANDARD DEVIATION\n",
        "\n",
        "# Average distance between each obseravtion from the mean. \n",
        "# I.e., how data is spread out from mean. \n",
        "# A low std dev indicates that the data points tend to be close to the mean of the data set, \n",
        "# A high std dev indicates that the data points are spread out over a wider range of values."
      ],
      "execution_count": null,
      "outputs": []
    },
    {
      "cell_type": "code",
      "metadata": {
        "id": "IEwGW0BXx3qb",
        "colab": {
          "base_uri": "https://localhost:8080/"
        },
        "outputId": "ac734fde-7eb6-4ff5-847f-a46c849a0dd3"
      },
      "source": [
        "# Calculating the Standard Deviation of each column in our cols list\n",
        "# Using a for loop\n",
        "# Specifying a space between each column's output\n",
        "# Displaying the Standard Deviation by column in cols list\n",
        "\n",
        "for column in cols:\n",
        "  print('\\n')\n",
        "  print('The Standard Deviation of ' + column + ', is :  ' + str(df[column].std()))\n",
        "  \n",
        "  \n",
        "  \n",
        "  \n",
        "  \n",
        "  ### The output shows the standard deviation for each target column.\n",
        "  \n",
        "  \n",
        "  \n",
        "### Comparing each column means with the standard deviation to see how the data is spread out:\n",
        "\n",
        "  \n",
        "  \n",
        "# The mean n_daily_data_points is : 1430.0072765072764   ### Std Dev = 36.88213992449968  # data points tend to be close to the mean of the data set,\n",
        "\n",
        "\n",
        "# The mean bluecars_taken_sum is : 116.0286729036729   ### Std Dev = 169.62690469970084   #  the data points are spread out over a wider range of values\n",
        "\n",
        "\n",
        "# The mean bluecars_returned_sum is : 115.63937976437977   ### Std Dev = 168.34475125432746    #  the data points are spread out over a wider range of values\n",
        "\n",
        "\n",
        "# The mean slots_freed_sum is : 20.94516632016632   ### Std Dev = 47.90020768290576    #  the data points are spread out over a wider range of values\n",
        "\n",
        "\n",
        "# The mean slots_taken_sum is : 20.921431046431046     ### Std Dev = 47.84857983852817    #  the data points are spread out over a wider range of values\n",
        " "
      ],
      "execution_count": null,
      "outputs": [
        {
          "output_type": "stream",
          "text": [
            "\n",
            "\n",
            "The Standard Deviation of n_daily_data_points, is :  36.88213992449968\n",
            "\n",
            "\n",
            "The Standard Deviation of bluecars_taken_sum, is :  169.62690469970084\n",
            "\n",
            "\n",
            "The Standard Deviation of bluecars_returned_sum, is :  168.34475125432746\n",
            "\n",
            "\n",
            "The Standard Deviation of slots_freed_sum, is :  47.90020768290576\n",
            "\n",
            "\n",
            "The Standard Deviation of slots_taken_sum, is :  47.84857983852817\n"
          ],
          "name": "stdout"
        }
      ]
    },
    {
      "cell_type": "code",
      "metadata": {
        "id": "kVZEF8W_nYKC"
      },
      "source": [
        "## VARIANCE \n",
        "\n",
        "# It is the square of average distance between each observation and mean. \n",
        "# I.e. square of standard deviation. \n",
        "# It is a measure of how dispersed or spread out the set is, \n",
        "\n",
        "# If a data set has a variance of zero, then every member of it is the same. \n",
        "# If the variance is high, especially as a ratio to the mean, then the data have some very large dis-similarities amongst its members."
      ],
      "execution_count": null,
      "outputs": []
    },
    {
      "cell_type": "code",
      "metadata": {
        "id": "hEDvEGO-x3mS",
        "colab": {
          "base_uri": "https://localhost:8080/"
        },
        "outputId": "dcd28e9c-f32b-4dc6-eac4-691893d7f6d2"
      },
      "source": [
        "# Calculating the variance of each column in our cols list\n",
        "# Using a for loop\n",
        "# Specifying a space between each column's output\n",
        "# Displaying the variance by column in cols list\n",
        "\n",
        "\n",
        "for column in cols:\n",
        "  print('\\n')\n",
        "  print('The Variance of ' + column + ', is :  ' + str(df[column].var()))\n",
        "  \n",
        "  \n",
        "  # From the outputs, all the variables have a  very high variance indicating that\n",
        "  # the data in each column have some very large dis-similarities amongst its members.\n",
        "  # except for n_daily data points which has a fairly smaller value compared to others."
      ],
      "execution_count": null,
      "outputs": [
        {
          "output_type": "stream",
          "text": [
            "\n",
            "\n",
            "The Variance of n_daily_data_points, is :  1360.2922454103737\n",
            "\n",
            "\n",
            "The Variance of bluecars_taken_sum, is :  28773.286798001394\n",
            "\n",
            "\n",
            "The Variance of bluecars_returned_sum, is :  28339.955274881388\n",
            "\n",
            "\n",
            "The Variance of slots_freed_sum, is :  2294.4298960655037\n",
            "\n",
            "\n",
            "The Variance of slots_taken_sum, is :  2289.4865925640042\n"
          ],
          "name": "stdout"
        }
      ]
    },
    {
      "cell_type": "code",
      "metadata": {
        "id": "5e55qXtfx3iE"
      },
      "source": [
        "## SKEWNESS \n",
        "\n",
        "# A measure of the asymmetry of the probability distribution of a real-valued random variable about its mean. \n",
        "# In a perfect normal distribution, the tails on either side of the curve are exact mirror images of each other.\n",
        "# A negative value means the distribution is negatively skewed.....or...skewed to the left\n",
        "# A positive value means the distribution is positively skewed.....or...skewed to the right"
      ],
      "execution_count": null,
      "outputs": []
    },
    {
      "cell_type": "code",
      "metadata": {
        "id": "9yTU6PIox3eD",
        "colab": {
          "base_uri": "https://localhost:8080/"
        },
        "outputId": "39a2bc85-632a-46b1-f3a3-ade705a2b3d0"
      },
      "source": [
        "# Calculating the Skewness of each column in our cols list\n",
        "# Using a for loop\n",
        "# Specifying a space between each column's output\n",
        "# Displaying the Skewness by column in cols list\n",
        "\n",
        "\n",
        "for column in cols:\n",
        "  print('\\n')\n",
        "  print('The Skewness of ' + column + ', is :  ' + str(df[column].skew()))\n",
        "  \n",
        "  \n",
        "  \n",
        "# from the output, n_daily_data_points data distribution is skewed to the left since it has a negative value\n",
        "# Others: bluecars_taken_sum, bluecars_returned_sum, slots_freed_sum,  and  slots_taken_sum have a positive value indicating that\n",
        "# they data distributions are skewed to the right.\n",
        "# this was also evident in the histograms plotted above."
      ],
      "execution_count": null,
      "outputs": [
        {
          "output_type": "stream",
          "text": [
            "\n",
            "\n",
            "The Skewness of n_daily_data_points, is :  -5.449575600011862\n",
            "\n",
            "\n",
            "The Skewness of bluecars_taken_sum, is :  2.3281979815185876\n",
            "\n",
            "\n",
            "The Skewness of bluecars_returned_sum, is :  2.3289726516394973\n",
            "\n",
            "\n",
            "The Skewness of slots_freed_sum, is :  2.5421869688795278\n",
            "\n",
            "\n",
            "The Skewness of slots_taken_sum, is :  2.5423463886866187\n"
          ],
          "name": "stdout"
        }
      ]
    },
    {
      "cell_type": "code",
      "metadata": {
        "id": "-dgIw-yWx3Z8"
      },
      "source": [
        "# KURTOSIS \n",
        "\n",
        "# A measure of whether the data are heavy-tailed (profusion of outliers)\n",
        "# or light-tailed (lack of outliers) relative to a normal distribution.\n",
        "# If the kurtosis is close to 0, then a normal distribution is often assumed....These are called mesokurtic distributions.                        \n",
        "# If the kurtosis is less than zero, then the distribution has light tails ......called a platykurtic distribution.  \n",
        "# If the kurtosis is greater than zero, then the distribution has heavier tails .... called a leptokurtic distribution."
      ],
      "execution_count": null,
      "outputs": []
    },
    {
      "cell_type": "code",
      "metadata": {
        "id": "0-sH1MB5x3V7",
        "colab": {
          "base_uri": "https://localhost:8080/"
        },
        "outputId": "e842d9a0-e120-4a9e-faf6-14164375b85b"
      },
      "source": [
        "# Calculating the Kurtosis of each column in our cols list\n",
        "# Using a for loop\n",
        "# Specifying a space between each column's output\n",
        "# Displaying the Kurtosis by column in cols list\n",
        "\n",
        "\n",
        "for column in cols:\n",
        "  print('\\n')\n",
        "  print('The Kurtosis of ' + column + ', is :  ' + str(df[column].kurt()))\n",
        "\n",
        " # The kurtosis value in all the columns are greater than zero, \n",
        "# Therefore their distributions have heavier tails .... called a leptokurtic distributions\n",
        "# they all have a profusion of outliers\n",
        "# Just like we saw in the boxplots earlier."
      ],
      "execution_count": null,
      "outputs": [
        {
          "output_type": "stream",
          "text": [
            "\n",
            "\n",
            "The Kurtosis of n_daily_data_points, is :  31.654407529009344\n",
            "\n",
            "\n",
            "The Kurtosis of bluecars_taken_sum, is :  5.553808116768028\n",
            "\n",
            "\n",
            "The Kurtosis of bluecars_returned_sum, is :  5.5428632223425325\n",
            "\n",
            "\n",
            "The Kurtosis of slots_freed_sum, is :  6.007229901401457\n",
            "\n",
            "\n",
            "The Kurtosis of slots_taken_sum, is :  6.001264705133703\n"
          ],
          "name": "stdout"
        }
      ]
    },
    {
      "cell_type": "markdown",
      "metadata": {
        "id": "Eo3yav_5Tygl"
      },
      "source": [
        "# 1.5 BIVARIATE ANALYSIS"
      ]
    },
    {
      "cell_type": "code",
      "metadata": {
        "id": "6UkWySITRSLd"
      },
      "source": [
        "# Analysis of two different variables to find their causes and relationships between them."
      ],
      "execution_count": null,
      "outputs": []
    },
    {
      "cell_type": "markdown",
      "metadata": {
        "id": "bZ3o8YD7sG1I"
      },
      "source": [
        "## 1.5.1 Visualizations"
      ]
    },
    {
      "cell_type": "markdown",
      "metadata": {
        "id": "NPjY9y1IsPDk"
      },
      "source": [
        "### 1.5.1.1 Scatter Plots"
      ]
    },
    {
      "cell_type": "code",
      "metadata": {
        "id": "ksy2TJZQrj6m",
        "colab": {
          "base_uri": "https://localhost:8080/",
          "height": 411
        },
        "outputId": "14c12763-345a-4da6-c7cc-0329f2ff6855"
      },
      "source": [
        "# Using Matplotlib: Plotting our scatterplot to compare two numerical the variables\n",
        "\n",
        "# Specifying the chart size\n",
        "\n",
        "plt.figure(dpi = 100)\n",
        "\n",
        "# plotting our scatterplot using matplotlib\n",
        "plt.scatter(df['bluecars_taken_sum'], df['bluecars_returned_sum'])\n",
        "\n",
        "# Giving the scatterplot a title\n",
        "plt.title('A scatter plot of Bluecars returned vs taken', color = 'blue')\n",
        "\n",
        "# Labelling the x axis\n",
        "plt.xlabel('bluecars_taken_sum')\n",
        "\n",
        "# Labelling the y axis\n",
        "plt.ylabel('bluecars_returned_sum')\n",
        "\n",
        "# We then display our scatterplot \n",
        "plt.show()\n",
        "\n",
        "\n",
        "\n",
        "\n",
        "# There is strong positive correlation between Bluecars returned vs taken.\n",
        "# As the blue cars taken increases, the bluecar returned also increases.\n",
        "# "
      ],
      "execution_count": null,
      "outputs": [
        {
          "output_type": "display_data",
          "data": {
            "image/png": "[encoded data removed]",
            "text/plain": [
              "<Figure size 600x400 with 1 Axes>"
            ]
          },
          "metadata": {
            "tags": []
          }
        }
      ]
    },
    {
      "cell_type": "code",
      "metadata": {
        "id": "VXU8MJUFu3lK",
        "colab": {
          "base_uri": "https://localhost:8080/",
          "height": 411
        },
        "outputId": "feaf3dff-94ed-48fd-b0d3-b8aca421b1fb"
      },
      "source": [
        "# Using Seaborn: \n",
        "\n",
        "# Specifying the dots per inch\n",
        "# Using the function regplot from Seaborn to create our scatterplot\n",
        "# creating a title for our scatter plot\n",
        "# displaying the scatter plot\n",
        "\n",
        "\n",
        "plt.figure(dpi = 100)\n",
        "sns.regplot(x = df[\"slots_freed_sum\"], y = df[\"slots_taken_sum\"], fit_reg=True, color = 'magenta', marker = '*')\n",
        "plt.title(\"A scatter plot of Charging slots taken vs Released\", color = 'magenta')\n",
        "plt.show()\n",
        "\n",
        "\n",
        "\n",
        "# There is strong positive correlation between charging slots taken vs released.\n",
        "# As the charging slots are released increases, the taken charging also increases.\n",
        "# "
      ],
      "execution_count": null,
      "outputs": [
        {
          "output_type": "display_data",
          "data": {
            "image/png": "[encoded data removed]",
            "text/plain": [
              "<Figure size 600x400 with 1 Axes>"
            ]
          },
          "metadata": {
            "tags": []
          }
        }
      ]
    },
    {
      "cell_type": "markdown",
      "metadata": {
        "id": "G_0Fn8CJwokt"
      },
      "source": [
        "### 1.5.1.2 Line Charts"
      ]
    },
    {
      "cell_type": "code",
      "metadata": {
        "id": "NVv7rijsx1Px"
      },
      "source": [
        "# To plot a meaningful line chart,\n",
        "# I will use simple random sampling techinique to select a representative sample of the data\n",
        "# Since there are too many observations to plot a line chart.\n",
        "\n",
        "\n",
        "# then I will use stratified sampling to select a sample dataset for by each month.\n",
        "\n",
        "\n",
        "# then I will plot a line chart and a stacked bar chart"
      ],
      "execution_count": null,
      "outputs": []
    },
    {
      "cell_type": "markdown",
      "metadata": {
        "id": "l0LXd0P-xWdH"
      },
      "source": [
        "# **SIMPLE RANDOM SAMPLING**"
      ]
    },
    {
      "cell_type": "code",
      "metadata": {
        "id": "2QJwIL5GxaeW"
      },
      "source": [
        "# A simple random sample is a subset of a statistical population \n",
        "# in which each member of the subset has an equal probability of being chosen. \n",
        "# A simple random sample is meant to be an unbiased representation of a group.\n",
        "\n",
        "# Major advantages include its simplicity and lack of bias.\n"
      ],
      "execution_count": null,
      "outputs": []
    },
    {
      "cell_type": "code",
      "metadata": {
        "id": "YO_gmS0Twwp4"
      },
      "source": [
        "# creating a new dataframe containing our simple random sample \n",
        "# sample size = 3000\n",
        "# the sample will be selected without replacement\n",
        "\n",
        "\n",
        "df1 = df.sample(n = 3000, replace = 'False')\n"
      ],
      "execution_count": null,
      "outputs": []
    },
    {
      "cell_type": "code",
      "metadata": {
        "id": "RnGjKgonzWXv",
        "colab": {
          "base_uri": "https://localhost:8080/",
          "height": 241
        },
        "outputId": "56c3c500-c30f-4c2e-fce0-bfe58ebecb4f"
      },
      "source": [
        "# Confriming the size of our sample\n",
        "# viewing the head of the created sample\n",
        "\n",
        "\n",
        "print(df1.shape)\n",
        "\n",
        "df1.head()\n",
        "\n"
      ],
      "execution_count": null,
      "outputs": [
        {
          "output_type": "stream",
          "text": [
            "(3000, 9)\n"
          ],
          "name": "stdout"
        },
        {
          "output_type": "execute_result",
          "data": {
            "text/html": [
              "<div>\n",
              "<style scoped>\n",
              "    .dataframe tbody tr th:only-of-type {\n",
              "        vertical-align: middle;\n",
              "    }\n",
              "\n",
              "    .dataframe tbody tr th {\n",
              "        vertical-align: top;\n",
              "    }\n",
              "\n",
              "    .dataframe thead th {\n",
              "        text-align: right;\n",
              "    }\n",
              "</style>\n",
              "<table border=\"1\" class=\"dataframe\">\n",
              "  <thead>\n",
              "    <tr style=\"text-align: right;\">\n",
              "      <th></th>\n",
              "      <th>postalcode</th>\n",
              "      <th>date</th>\n",
              "      <th>n_daily_data_points</th>\n",
              "      <th>dayofweek</th>\n",
              "      <th>day_type</th>\n",
              "      <th>bluecars_taken_sum</th>\n",
              "      <th>bluecars_returned_sum</th>\n",
              "      <th>slots_freed_sum</th>\n",
              "      <th>slots_taken_sum</th>\n",
              "    </tr>\n",
              "  </thead>\n",
              "  <tbody>\n",
              "    <tr>\n",
              "      <th>12857</th>\n",
              "      <td>93800</td>\n",
              "      <td>2/16/2018</td>\n",
              "      <td>1439</td>\n",
              "      <td>Friday</td>\n",
              "      <td>weekday</td>\n",
              "      <td>12</td>\n",
              "      <td>11</td>\n",
              "      <td>0</td>\n",
              "      <td>0</td>\n",
              "    </tr>\n",
              "    <tr>\n",
              "      <th>5058</th>\n",
              "      <td>92130</td>\n",
              "      <td>3/14/2018</td>\n",
              "      <td>1440</td>\n",
              "      <td>Wednesday</td>\n",
              "      <td>weekday</td>\n",
              "      <td>263</td>\n",
              "      <td>263</td>\n",
              "      <td>8</td>\n",
              "      <td>8</td>\n",
              "    </tr>\n",
              "    <tr>\n",
              "      <th>3077</th>\n",
              "      <td>75020</td>\n",
              "      <td>4/27/2018</td>\n",
              "      <td>1440</td>\n",
              "      <td>Friday</td>\n",
              "      <td>weekday</td>\n",
              "      <td>420</td>\n",
              "      <td>415</td>\n",
              "      <td>106</td>\n",
              "      <td>100</td>\n",
              "    </tr>\n",
              "    <tr>\n",
              "      <th>7634</th>\n",
              "      <td>92310</td>\n",
              "      <td>6/13/2018</td>\n",
              "      <td>1440</td>\n",
              "      <td>Wednesday</td>\n",
              "      <td>weekday</td>\n",
              "      <td>71</td>\n",
              "      <td>82</td>\n",
              "      <td>0</td>\n",
              "      <td>0</td>\n",
              "    </tr>\n",
              "    <tr>\n",
              "      <th>5070</th>\n",
              "      <td>92130</td>\n",
              "      <td>3/26/2018</td>\n",
              "      <td>1439</td>\n",
              "      <td>Monday</td>\n",
              "      <td>weekday</td>\n",
              "      <td>237</td>\n",
              "      <td>224</td>\n",
              "      <td>1</td>\n",
              "      <td>1</td>\n",
              "    </tr>\n",
              "  </tbody>\n",
              "</table>\n",
              "</div>"
            ],
            "text/plain": [
              "       postalcode       date  ...  slots_freed_sum slots_taken_sum\n",
              "12857       93800  2/16/2018  ...                0               0\n",
              "5058        92130  3/14/2018  ...                8               8\n",
              "3077        75020  4/27/2018  ...              106             100\n",
              "7634        92310  6/13/2018  ...                0               0\n",
              "5070        92130  3/26/2018  ...                1               1\n",
              "\n",
              "[5 rows x 9 columns]"
            ]
          },
          "metadata": {
            "tags": []
          },
          "execution_count": 89
        }
      ]
    },
    {
      "cell_type": "code",
      "metadata": {
        "id": "7Kq0kwW70hiL"
      },
      "source": [
        "## converting the date column to datetime format \n",
        "#  We will extract the month for plotting purposes\n",
        "\n",
        "df1['date'] = pd.to_datetime(df1.date)"
      ],
      "execution_count": null,
      "outputs": []
    },
    {
      "cell_type": "markdown",
      "metadata": {
        "id": "92Bn5Z60LGP3"
      },
      "source": [
        "# **STRATIFIED SAMPLING**"
      ]
    },
    {
      "cell_type": "code",
      "metadata": {
        "id": "Nv9GMZFFrjoR"
      },
      "source": [
        "# Stratified Sampling\n",
        "# Stratified sampling refers to a type of sampling method. \n",
        "# With stratified sampling, the researcher divides the population into separate groups, called strata. \n",
        "# Then, a probability sample (often a simple random sample ) is drawn from each group.\n",
        "\n",
        "# Stratified sampling has several advantages over simple random sampling. \n",
        "# For example, using stratified sampling, \n",
        "# it may be possible to reduce the sample size required to achieve a given precision. \n",
        "# Or it may be possible to increase the precision with the same sample size."
      ],
      "execution_count": null,
      "outputs": []
    },
    {
      "cell_type": "code",
      "metadata": {
        "id": "8cy4Evrkrjfb"
      },
      "source": [
        "# creating a new column called month\n",
        "# we shall use the column month to select our stratifies sample by each month\n",
        "\n",
        "df1['month'] = pd.DatetimeIndex(df1['date']).month  "
      ],
      "execution_count": null,
      "outputs": []
    },
    {
      "cell_type": "code",
      "metadata": {
        "id": "ZAU26n9ArjaB",
        "colab": {
          "base_uri": "https://localhost:8080/",
          "height": 309
        },
        "outputId": "97f097a3-2122-4196-d5f5-1f918d1954dc"
      },
      "source": [
        "# checking the new column created\n",
        "\n",
        "df1.head()"
      ],
      "execution_count": null,
      "outputs": [
        {
          "output_type": "execute_result",
          "data": {
            "text/html": [
              "<div>\n",
              "<style scoped>\n",
              "    .dataframe tbody tr th:only-of-type {\n",
              "        vertical-align: middle;\n",
              "    }\n",
              "\n",
              "    .dataframe tbody tr th {\n",
              "        vertical-align: top;\n",
              "    }\n",
              "\n",
              "    .dataframe thead th {\n",
              "        text-align: right;\n",
              "    }\n",
              "</style>\n",
              "<table border=\"1\" class=\"dataframe\">\n",
              "  <thead>\n",
              "    <tr style=\"text-align: right;\">\n",
              "      <th></th>\n",
              "      <th>postalcode</th>\n",
              "      <th>date</th>\n",
              "      <th>n_daily_data_points</th>\n",
              "      <th>dayofweek</th>\n",
              "      <th>day_type</th>\n",
              "      <th>bluecars_taken_sum</th>\n",
              "      <th>bluecars_returned_sum</th>\n",
              "      <th>slots_freed_sum</th>\n",
              "      <th>slots_taken_sum</th>\n",
              "      <th>month</th>\n",
              "    </tr>\n",
              "  </thead>\n",
              "  <tbody>\n",
              "    <tr>\n",
              "      <th>12857</th>\n",
              "      <td>93800</td>\n",
              "      <td>2018-02-16</td>\n",
              "      <td>1439</td>\n",
              "      <td>Friday</td>\n",
              "      <td>weekday</td>\n",
              "      <td>12</td>\n",
              "      <td>11</td>\n",
              "      <td>0</td>\n",
              "      <td>0</td>\n",
              "      <td>2</td>\n",
              "    </tr>\n",
              "    <tr>\n",
              "      <th>5058</th>\n",
              "      <td>92130</td>\n",
              "      <td>2018-03-14</td>\n",
              "      <td>1440</td>\n",
              "      <td>Wednesday</td>\n",
              "      <td>weekday</td>\n",
              "      <td>263</td>\n",
              "      <td>263</td>\n",
              "      <td>8</td>\n",
              "      <td>8</td>\n",
              "      <td>3</td>\n",
              "    </tr>\n",
              "    <tr>\n",
              "      <th>3077</th>\n",
              "      <td>75020</td>\n",
              "      <td>2018-04-27</td>\n",
              "      <td>1440</td>\n",
              "      <td>Friday</td>\n",
              "      <td>weekday</td>\n",
              "      <td>420</td>\n",
              "      <td>415</td>\n",
              "      <td>106</td>\n",
              "      <td>100</td>\n",
              "      <td>4</td>\n",
              "    </tr>\n",
              "    <tr>\n",
              "      <th>7634</th>\n",
              "      <td>92310</td>\n",
              "      <td>2018-06-13</td>\n",
              "      <td>1440</td>\n",
              "      <td>Wednesday</td>\n",
              "      <td>weekday</td>\n",
              "      <td>71</td>\n",
              "      <td>82</td>\n",
              "      <td>0</td>\n",
              "      <td>0</td>\n",
              "      <td>6</td>\n",
              "    </tr>\n",
              "    <tr>\n",
              "      <th>5070</th>\n",
              "      <td>92130</td>\n",
              "      <td>2018-03-26</td>\n",
              "      <td>1439</td>\n",
              "      <td>Monday</td>\n",
              "      <td>weekday</td>\n",
              "      <td>237</td>\n",
              "      <td>224</td>\n",
              "      <td>1</td>\n",
              "      <td>1</td>\n",
              "      <td>3</td>\n",
              "    </tr>\n",
              "  </tbody>\n",
              "</table>\n",
              "</div>"
            ],
            "text/plain": [
              "       postalcode       date  ...  slots_taken_sum month\n",
              "12857       93800 2018-02-16  ...                0     2\n",
              "5058        92130 2018-03-14  ...                8     3\n",
              "3077        75020 2018-04-27  ...              100     4\n",
              "7634        92310 2018-06-13  ...                0     6\n",
              "5070        92130 2018-03-26  ...                1     3\n",
              "\n",
              "[5 rows x 10 columns]"
            ]
          },
          "metadata": {
            "tags": []
          },
          "execution_count": 92
        }
      ]
    },
    {
      "cell_type": "code",
      "metadata": {
        "id": "Cgkb4T7ONny9"
      },
      "source": [
        "# Selecting a stratified sample \n",
        "# By month of the year.\n",
        "\n",
        "strat_sample = df1.groupby(['month'],group_keys = False).apply(lambda month : month.sample(frac = 0.5))\n",
        "\n"
      ],
      "execution_count": null,
      "outputs": []
    },
    {
      "cell_type": "code",
      "metadata": {
        "id": "cCZtUw9ZNnrQ",
        "colab": {
          "base_uri": "https://localhost:8080/",
          "height": 326
        },
        "outputId": "c89b66ef-376d-491a-ccb3-269c768ddb50"
      },
      "source": [
        "# checking the new stratified sample selected\n",
        "\n",
        "print(strat_sample.shape)\n",
        "\n",
        "strat_sample.head()"
      ],
      "execution_count": null,
      "outputs": [
        {
          "output_type": "stream",
          "text": [
            "(1500, 10)\n"
          ],
          "name": "stdout"
        },
        {
          "output_type": "execute_result",
          "data": {
            "text/html": [
              "<div>\n",
              "<style scoped>\n",
              "    .dataframe tbody tr th:only-of-type {\n",
              "        vertical-align: middle;\n",
              "    }\n",
              "\n",
              "    .dataframe tbody tr th {\n",
              "        vertical-align: top;\n",
              "    }\n",
              "\n",
              "    .dataframe thead th {\n",
              "        text-align: right;\n",
              "    }\n",
              "</style>\n",
              "<table border=\"1\" class=\"dataframe\">\n",
              "  <thead>\n",
              "    <tr style=\"text-align: right;\">\n",
              "      <th></th>\n",
              "      <th>postalcode</th>\n",
              "      <th>date</th>\n",
              "      <th>n_daily_data_points</th>\n",
              "      <th>dayofweek</th>\n",
              "      <th>day_type</th>\n",
              "      <th>bluecars_taken_sum</th>\n",
              "      <th>bluecars_returned_sum</th>\n",
              "      <th>slots_freed_sum</th>\n",
              "      <th>slots_taken_sum</th>\n",
              "      <th>month</th>\n",
              "    </tr>\n",
              "  </thead>\n",
              "  <tbody>\n",
              "    <tr>\n",
              "      <th>1264</th>\n",
              "      <td>75009</td>\n",
              "      <td>2018-01-17</td>\n",
              "      <td>1440</td>\n",
              "      <td>Wednesday</td>\n",
              "      <td>weekday</td>\n",
              "      <td>322</td>\n",
              "      <td>308</td>\n",
              "      <td>82</td>\n",
              "      <td>83</td>\n",
              "      <td>1</td>\n",
              "    </tr>\n",
              "    <tr>\n",
              "      <th>1433</th>\n",
              "      <td>75010</td>\n",
              "      <td>2018-01-30</td>\n",
              "      <td>1440</td>\n",
              "      <td>Tuesday</td>\n",
              "      <td>weekday</td>\n",
              "      <td>261</td>\n",
              "      <td>263</td>\n",
              "      <td>68</td>\n",
              "      <td>71</td>\n",
              "      <td>1</td>\n",
              "    </tr>\n",
              "    <tr>\n",
              "      <th>1738</th>\n",
              "      <td>75012</td>\n",
              "      <td>2018-01-23</td>\n",
              "      <td>1439</td>\n",
              "      <td>Tuesday</td>\n",
              "      <td>weekday</td>\n",
              "      <td>411</td>\n",
              "      <td>413</td>\n",
              "      <td>124</td>\n",
              "      <td>125</td>\n",
              "      <td>1</td>\n",
              "    </tr>\n",
              "    <tr>\n",
              "      <th>6407</th>\n",
              "      <td>92230</td>\n",
              "      <td>2018-01-15</td>\n",
              "      <td>1440</td>\n",
              "      <td>Monday</td>\n",
              "      <td>weekday</td>\n",
              "      <td>71</td>\n",
              "      <td>64</td>\n",
              "      <td>1</td>\n",
              "      <td>0</td>\n",
              "      <td>1</td>\n",
              "    </tr>\n",
              "    <tr>\n",
              "      <th>12996</th>\n",
              "      <td>94000</td>\n",
              "      <td>2018-01-30</td>\n",
              "      <td>1440</td>\n",
              "      <td>Tuesday</td>\n",
              "      <td>weekday</td>\n",
              "      <td>98</td>\n",
              "      <td>100</td>\n",
              "      <td>0</td>\n",
              "      <td>0</td>\n",
              "      <td>1</td>\n",
              "    </tr>\n",
              "  </tbody>\n",
              "</table>\n",
              "</div>"
            ],
            "text/plain": [
              "       postalcode       date  ...  slots_taken_sum month\n",
              "1264        75009 2018-01-17  ...               83     1\n",
              "1433        75010 2018-01-30  ...               71     1\n",
              "1738        75012 2018-01-23  ...              125     1\n",
              "6407        92230 2018-01-15  ...                0     1\n",
              "12996       94000 2018-01-30  ...                0     1\n",
              "\n",
              "[5 rows x 10 columns]"
            ]
          },
          "metadata": {
            "tags": []
          },
          "execution_count": 95
        }
      ]
    },
    {
      "cell_type": "markdown",
      "metadata": {
        "id": "oobN9lDVUBYu"
      },
      "source": [
        "### 1.5.1.3 Pearson correlation"
      ]
    },
    {
      "cell_type": "code",
      "metadata": {
        "id": "PDUYKcfYUO5y"
      },
      "source": [
        "# Correlation\n",
        "\n",
        "\n",
        "# It is a statistical measure that describes the association between random variables.\n",
        "\n",
        "# Calculate the pearson correlation coefficient; It is the most widely used correlation coefficient.\n",
        "\n",
        "# Positive correlation is a relationship between two variables in which both variables move in tandem i.e. in the same direction.\n",
        "\n",
        "# Negative correlation/ inverse correlation is a relationship between two variables whereby they move in opposite directions. \n",
        "\n",
        "# Correlation coefficients between -.20 and .20 are generally considered weak, \n",
        "\n",
        "# Between .20 and .50 (positive or negative) are considered moderate, \n",
        "\n",
        "# Above.50 (positive or negative) are considered strong."
      ],
      "execution_count": null,
      "outputs": []
    },
    {
      "cell_type": "code",
      "metadata": {
        "id": "nDtQpinYUOws",
        "colab": {
          "base_uri": "https://localhost:8080/",
          "height": 255
        },
        "outputId": "c51be44c-5686-41eb-e809-fc5dbbc1e873"
      },
      "source": [
        "# Calculating the pearson coefficient of the entire dataframe\n",
        "\n",
        "df.corr()"
      ],
      "execution_count": null,
      "outputs": [
        {
          "output_type": "execute_result",
          "data": {
            "text/html": [
              "<div>\n",
              "<style scoped>\n",
              "    .dataframe tbody tr th:only-of-type {\n",
              "        vertical-align: middle;\n",
              "    }\n",
              "\n",
              "    .dataframe tbody tr th {\n",
              "        vertical-align: top;\n",
              "    }\n",
              "\n",
              "    .dataframe thead th {\n",
              "        text-align: right;\n",
              "    }\n",
              "</style>\n",
              "<table border=\"1\" class=\"dataframe\">\n",
              "  <thead>\n",
              "    <tr style=\"text-align: right;\">\n",
              "      <th></th>\n",
              "      <th>postalcode</th>\n",
              "      <th>n_daily_data_points</th>\n",
              "      <th>bluecars_taken_sum</th>\n",
              "      <th>bluecars_returned_sum</th>\n",
              "      <th>slots_freed_sum</th>\n",
              "      <th>slots_taken_sum</th>\n",
              "    </tr>\n",
              "  </thead>\n",
              "  <tbody>\n",
              "    <tr>\n",
              "      <th>postalcode</th>\n",
              "      <td>1.000000</td>\n",
              "      <td>0.000174</td>\n",
              "      <td>-0.701709</td>\n",
              "      <td>-0.701877</td>\n",
              "      <td>-0.754730</td>\n",
              "      <td>-0.754422</td>\n",
              "    </tr>\n",
              "    <tr>\n",
              "      <th>n_daily_data_points</th>\n",
              "      <td>0.000174</td>\n",
              "      <td>1.000000</td>\n",
              "      <td>0.026295</td>\n",
              "      <td>0.026691</td>\n",
              "      <td>0.020497</td>\n",
              "      <td>0.021045</td>\n",
              "    </tr>\n",
              "    <tr>\n",
              "      <th>bluecars_taken_sum</th>\n",
              "      <td>-0.701709</td>\n",
              "      <td>0.026295</td>\n",
              "      <td>1.000000</td>\n",
              "      <td>0.998780</td>\n",
              "      <td>0.945700</td>\n",
              "      <td>0.944855</td>\n",
              "    </tr>\n",
              "    <tr>\n",
              "      <th>bluecars_returned_sum</th>\n",
              "      <td>-0.701877</td>\n",
              "      <td>0.026691</td>\n",
              "      <td>0.998780</td>\n",
              "      <td>1.000000</td>\n",
              "      <td>0.945758</td>\n",
              "      <td>0.946006</td>\n",
              "    </tr>\n",
              "    <tr>\n",
              "      <th>slots_freed_sum</th>\n",
              "      <td>-0.754730</td>\n",
              "      <td>0.020497</td>\n",
              "      <td>0.945700</td>\n",
              "      <td>0.945758</td>\n",
              "      <td>1.000000</td>\n",
              "      <td>0.999154</td>\n",
              "    </tr>\n",
              "    <tr>\n",
              "      <th>slots_taken_sum</th>\n",
              "      <td>-0.754422</td>\n",
              "      <td>0.021045</td>\n",
              "      <td>0.944855</td>\n",
              "      <td>0.946006</td>\n",
              "      <td>0.999154</td>\n",
              "      <td>1.000000</td>\n",
              "    </tr>\n",
              "  </tbody>\n",
              "</table>\n",
              "</div>"
            ],
            "text/plain": [
              "                       postalcode  ...  slots_taken_sum\n",
              "postalcode               1.000000  ...        -0.754422\n",
              "n_daily_data_points      0.000174  ...         0.021045\n",
              "bluecars_taken_sum      -0.701709  ...         0.944855\n",
              "bluecars_returned_sum   -0.701877  ...         0.946006\n",
              "slots_freed_sum         -0.754730  ...         0.999154\n",
              "slots_taken_sum         -0.754422  ...         1.000000\n",
              "\n",
              "[6 rows x 6 columns]"
            ]
          },
          "metadata": {
            "tags": []
          },
          "execution_count": 96
        }
      ]
    },
    {
      "cell_type": "code",
      "metadata": {
        "id": "MZNrVmMgV5a0",
        "colab": {
          "base_uri": "https://localhost:8080/",
          "height": 798
        },
        "outputId": "2b47a62f-a9a3-424b-dd03-643d184eaaeb"
      },
      "source": [
        "# Heatmap\n",
        "\n",
        "\n",
        "# defining our data\n",
        "# figure size specifications\n",
        "# using the Seaborn Visualization library\n",
        "# Rotating our x axis ticks\n",
        "# Rotating our y axis ticks\n",
        "# labelling the title\n",
        "# displaying our chart\n",
        "\n",
        "\n",
        "x = df.corr()\n",
        "plt.figure(figsize = (8,8), dpi = 100)\n",
        "sns.heatmap(x, xticklabels = x.columns, yticklabels=x.columns, annot = True)\n",
        "plt.title('A heatmap of the pearson co-efficients in our dataframe', color = \"blue\")\n",
        "plt.xticks(rotation = 45)\n",
        "plt.yticks(rotation = 45)\n",
        "plt.show()\n",
        "\n",
        "\n",
        "\n",
        "# The brighter regions show strong positive correlation between variables.\n",
        "# For example there is a strong positive correlation (0.99) between bluecars_taken_sum and bluecars_returned_sum, &\tslots_freed_sum and slots_taken_sum"
      ],
      "execution_count": null,
      "outputs": [
        {
          "output_type": "display_data",
          "data": {
            "image/png": "[encoded data removed]",
            "text/plain": [
              "<Figure size 800x800 with 2 Axes>"
            ]
          },
          "metadata": {
            "tags": []
          }
        }
      ]
    },
    {
      "cell_type": "markdown",
      "metadata": {
        "id": "4UGFtpZ7ToPu"
      },
      "source": [
        "# 1.6 HYPOTHESIS TESTING "
      ]
    },
    {
      "cell_type": "code",
      "metadata": {
        "id": "STDTGjYprjDb"
      },
      "source": [
        "# Hypothesis testing is a statistical method that is used in making statistical decisions using experimental data. \n",
        "# Hypothesis Testing is basically an assumption that we make about the population parameter.\n",
        "\n",
        "#### DEFINITION OF TERMS\n",
        "\n",
        "# Null hypothesis Ho:- In inferential statistics, the null hypothesis is a general statement or\n",
        "# default position that there is no relationship between two measured phenomena, or no association among groups.\n",
        "# In other words it is a basic assumption or made based on domain or problem knowledge.\n",
        "\n",
        "\n",
        "# Alternative hypothesis Ha/H1:-\n",
        "# The alternative hypothesis is the hypothesis used in hypothesis testing that is contrary to the null hypothesis.\n",
        "# It is usually taken to be that the observations are the result of a real effect (with some amount of chance variation superposed)\n",
        "\n",
        "\n",
        "# Level of significance:\n",
        "# Refers to the degree of significance in which we accept or reject the null-hypothesis. \n",
        "# 100% accuracy is not possible for accepting or rejecting a hypothesis, \n",
        "# so we therefore select a level of significance that is usually 5%.\n",
        "# This is normally denoted with alpha(maths symbol ) and generally it is 0.05 or 5% , \n",
        "# which means your output should be 95% confident to give similar kind of result in each sample.\n",
        "\n",
        "\n",
        "# Type I error: \n",
        "# When we reject the null hypothesis, although that hypothesis was true. Type I error is denoted by alpha.\n",
        "\n",
        "\n",
        "# Type II errors: \n",
        "# When we accept the null hypothesis but it is false. Type II errors are denoted by beta. \n",
        "\n",
        "# One tailed test :-\n",
        "# A test of a statistical hypothesis , where the region of rejection is on only one side of the sampling distribution\n",
        "# It can be right or left tail; determined by the alternative hypothesis\n",
        "\n",
        "# Two-tailed test :- \n",
        "# A two-tailed test is a statistical test in which the critical area of a distribution is two-sided \n",
        "\n",
        "\n",
        "# P-value :- \n",
        "# The P value, or calculated probability, \n",
        "# is the probability of finding the observed, or more extreme, results when the null hypothesis (H 0) of a study question is true\n",
        "# If your P value is less than the chosen significance level then you reject the null hypothesis i.e. \n",
        "# accept that your sample gives reasonable evidence to support the alternative hypothesis. \n"
      ],
      "execution_count": null,
      "outputs": []
    },
    {
      "cell_type": "code",
      "metadata": {
        "id": "X05Tztua5ane"
      },
      "source": [
        "# T- Test :-\n",
        "# A t-test is a type of inferential statistic which is used to\n",
        "# determine if there is a significant difference between the means of two groups which may be related in certain features.\n",
        "# T-test has 2 types : 1. one sampled t-test 2. two-sampled t-test.\n",
        "\n",
        "# Two sampled T-test :-The Independent Samples t Test or 2-sample t-test \n",
        "# compares the means of two independent groups in order to \n",
        "# determine whether there is statistical evidence that the associated population means are significantly different. \n",
        "# The Independent Samples t Test is a parametric test. This test is also known as: Independent t Test.\n",
        "\n",
        "# Paired sampled t-test :- \n",
        "# The paired sample t-test is also called dependent sample t-test.\n",
        "# It’s a univariate test that tests for a significant difference between 2 related variables."
      ],
      "execution_count": null,
      "outputs": []
    },
    {
      "cell_type": "code",
      "metadata": {
        "id": "D56EefyP5auD"
      },
      "source": [
        "# Z Test.\n",
        "\n",
        "## When to use Z test\n",
        "\n",
        "# Your sample size is greater than 30. Otherwise, use a t test.\n",
        "\n",
        "# Data points should be independent from each other. i.e, one data point isn’t related or doesn’t affect another data point.\n",
        "\n",
        "# Your data should be normally distributed. However, for large sample sizes (over 30) this doesn’t always matter.\n",
        "\n",
        "# Your data should be randomly selected from a population, where each item has an equal chance of being selected.\n",
        "\n",
        "# Sample sizes should be equal if at all possible.\n",
        "\n"
      ],
      "execution_count": null,
      "outputs": []
    },
    {
      "cell_type": "code",
      "metadata": {
        "id": "RLU-aM3k_EUp"
      },
      "source": [
        "# Using a Z test to conduct our Hypothesis.\n",
        "# It is the appropriate test to use here since we have a dataset larger than 30 observations.\n",
        "# "
      ],
      "execution_count": null,
      "outputs": []
    },
    {
      "cell_type": "code",
      "metadata": {
        "id": "7QHqMsTDlo2_",
        "colab": {
          "base_uri": "https://localhost:8080/",
          "height": 111
        },
        "outputId": "6b43e52c-2884-42b6-ac79-5fa965d1dfbb"
      },
      "source": [
        "# Selecting two postal codes using simple random sampling\n",
        "\n",
        "h_sample = df.sample(n = 2, replace = False)\n",
        "h_sample"
      ],
      "execution_count": null,
      "outputs": [
        {
          "output_type": "execute_result",
          "data": {
            "text/html": [
              "<div>\n",
              "<style scoped>\n",
              "    .dataframe tbody tr th:only-of-type {\n",
              "        vertical-align: middle;\n",
              "    }\n",
              "\n",
              "    .dataframe tbody tr th {\n",
              "        vertical-align: top;\n",
              "    }\n",
              "\n",
              "    .dataframe thead th {\n",
              "        text-align: right;\n",
              "    }\n",
              "</style>\n",
              "<table border=\"1\" class=\"dataframe\">\n",
              "  <thead>\n",
              "    <tr style=\"text-align: right;\">\n",
              "      <th></th>\n",
              "      <th>postalcode</th>\n",
              "      <th>date</th>\n",
              "      <th>n_daily_data_points</th>\n",
              "      <th>dayofweek</th>\n",
              "      <th>day_type</th>\n",
              "      <th>bluecars_taken_sum</th>\n",
              "      <th>bluecars_returned_sum</th>\n",
              "      <th>slots_freed_sum</th>\n",
              "      <th>slots_taken_sum</th>\n",
              "    </tr>\n",
              "  </thead>\n",
              "  <tbody>\n",
              "    <tr>\n",
              "      <th>1737</th>\n",
              "      <td>75012</td>\n",
              "      <td>1/22/2018</td>\n",
              "      <td>1440</td>\n",
              "      <td>Monday</td>\n",
              "      <td>weekday</td>\n",
              "      <td>415</td>\n",
              "      <td>418</td>\n",
              "      <td>138</td>\n",
              "      <td>141</td>\n",
              "    </tr>\n",
              "    <tr>\n",
              "      <th>934</th>\n",
              "      <td>75006</td>\n",
              "      <td>6/18/2018</td>\n",
              "      <td>1440</td>\n",
              "      <td>Monday</td>\n",
              "      <td>weekday</td>\n",
              "      <td>225</td>\n",
              "      <td>226</td>\n",
              "      <td>40</td>\n",
              "      <td>40</td>\n",
              "    </tr>\n",
              "  </tbody>\n",
              "</table>\n",
              "</div>"
            ],
            "text/plain": [
              "      postalcode       date  ...  slots_freed_sum slots_taken_sum\n",
              "1737       75012  1/22/2018  ...              138             141\n",
              "934        75006  6/18/2018  ...               40              40\n",
              "\n",
              "[2 rows x 9 columns]"
            ]
          },
          "metadata": {
            "tags": []
          },
          "execution_count": 27
        }
      ]
    },
    {
      "cell_type": "code",
      "metadata": {
        "id": "d2vlGZB8ri8u"
      },
      "source": [
        "# STEP 1\n",
        "\n",
        "# Stating the Hypothesis\n",
        "\n",
        "\n",
        "# H0 : The difference in the mean of blue cars taken in postal code 75006 and 75012 is 0\n",
        "# H1 : The difference in the mean of blue cars taken in postal code 75006 and 75012 is not 0\n",
        "\n",
        "\n",
        "## OR\n",
        "\n",
        "\n",
        "# H0 : U1 = U2\n",
        "# Ha : U1 ≠ U2"
      ],
      "execution_count": null,
      "outputs": []
    },
    {
      "cell_type": "code",
      "metadata": {
        "id": "-ETKMUyHuHO9"
      },
      "source": [
        "# STEP 2\n",
        "\n",
        "# Level of significance\n",
        "# α = 0.05\n"
      ],
      "execution_count": null,
      "outputs": []
    },
    {
      "cell_type": "code",
      "metadata": {
        "id": "l76PY-vtDvsw",
        "colab": {
          "base_uri": "https://localhost:8080/",
          "height": 204
        },
        "outputId": "89308925-7c08-4c4d-feea-b9b6947a66f9"
      },
      "source": [
        "# Creating a dataframe containing the 75012 postal code as p1\n",
        "\n",
        "p1 = df[df['postalcode'] == 75012]\n",
        "p1.head()"
      ],
      "execution_count": null,
      "outputs": [
        {
          "output_type": "execute_result",
          "data": {
            "text/html": [
              "<div>\n",
              "<style scoped>\n",
              "    .dataframe tbody tr th:only-of-type {\n",
              "        vertical-align: middle;\n",
              "    }\n",
              "\n",
              "    .dataframe tbody tr th {\n",
              "        vertical-align: top;\n",
              "    }\n",
              "\n",
              "    .dataframe thead th {\n",
              "        text-align: right;\n",
              "    }\n",
              "</style>\n",
              "<table border=\"1\" class=\"dataframe\">\n",
              "  <thead>\n",
              "    <tr style=\"text-align: right;\">\n",
              "      <th></th>\n",
              "      <th>postalcode</th>\n",
              "      <th>date</th>\n",
              "      <th>n_daily_data_points</th>\n",
              "      <th>dayofweek</th>\n",
              "      <th>day_type</th>\n",
              "      <th>bluecars_taken_sum</th>\n",
              "      <th>bluecars_returned_sum</th>\n",
              "      <th>slots_freed_sum</th>\n",
              "      <th>slots_taken_sum</th>\n",
              "    </tr>\n",
              "  </thead>\n",
              "  <tbody>\n",
              "    <tr>\n",
              "      <th>1716</th>\n",
              "      <td>75012</td>\n",
              "      <td>1/1/2018</td>\n",
              "      <td>1440</td>\n",
              "      <td>Monday</td>\n",
              "      <td>weekday</td>\n",
              "      <td>502</td>\n",
              "      <td>512</td>\n",
              "      <td>122</td>\n",
              "      <td>120</td>\n",
              "    </tr>\n",
              "    <tr>\n",
              "      <th>1717</th>\n",
              "      <td>75012</td>\n",
              "      <td>1/2/2018</td>\n",
              "      <td>1438</td>\n",
              "      <td>Tuesday</td>\n",
              "      <td>weekday</td>\n",
              "      <td>406</td>\n",
              "      <td>412</td>\n",
              "      <td>109</td>\n",
              "      <td>109</td>\n",
              "    </tr>\n",
              "    <tr>\n",
              "      <th>1718</th>\n",
              "      <td>75012</td>\n",
              "      <td>1/3/2018</td>\n",
              "      <td>1439</td>\n",
              "      <td>Wednesday</td>\n",
              "      <td>weekday</td>\n",
              "      <td>427</td>\n",
              "      <td>423</td>\n",
              "      <td>92</td>\n",
              "      <td>95</td>\n",
              "    </tr>\n",
              "    <tr>\n",
              "      <th>1719</th>\n",
              "      <td>75012</td>\n",
              "      <td>1/4/2018</td>\n",
              "      <td>1320</td>\n",
              "      <td>Thursday</td>\n",
              "      <td>weekday</td>\n",
              "      <td>395</td>\n",
              "      <td>392</td>\n",
              "      <td>91</td>\n",
              "      <td>94</td>\n",
              "    </tr>\n",
              "    <tr>\n",
              "      <th>1720</th>\n",
              "      <td>75012</td>\n",
              "      <td>1/5/2018</td>\n",
              "      <td>1440</td>\n",
              "      <td>Friday</td>\n",
              "      <td>weekday</td>\n",
              "      <td>476</td>\n",
              "      <td>478</td>\n",
              "      <td>114</td>\n",
              "      <td>118</td>\n",
              "    </tr>\n",
              "  </tbody>\n",
              "</table>\n",
              "</div>"
            ],
            "text/plain": [
              "      postalcode      date  ...  slots_freed_sum slots_taken_sum\n",
              "1716       75012  1/1/2018  ...              122             120\n",
              "1717       75012  1/2/2018  ...              109             109\n",
              "1718       75012  1/3/2018  ...               92              95\n",
              "1719       75012  1/4/2018  ...               91              94\n",
              "1720       75012  1/5/2018  ...              114             118\n",
              "\n",
              "[5 rows x 9 columns]"
            ]
          },
          "metadata": {
            "tags": []
          },
          "execution_count": 28
        }
      ]
    },
    {
      "cell_type": "code",
      "metadata": {
        "id": "4siOKzw6EdIS",
        "colab": {
          "base_uri": "https://localhost:8080/",
          "height": 204
        },
        "outputId": "1035fef9-4cd4-47f0-aa05-546a2378677f"
      },
      "source": [
        "# Creating a dataframe containing the 75006 postal code as p2\n",
        "\n",
        "p2 = df[df['postalcode'] == 75006]\n",
        "p2.head()"
      ],
      "execution_count": null,
      "outputs": [
        {
          "output_type": "execute_result",
          "data": {
            "text/html": [
              "<div>\n",
              "<style scoped>\n",
              "    .dataframe tbody tr th:only-of-type {\n",
              "        vertical-align: middle;\n",
              "    }\n",
              "\n",
              "    .dataframe tbody tr th {\n",
              "        vertical-align: top;\n",
              "    }\n",
              "\n",
              "    .dataframe thead th {\n",
              "        text-align: right;\n",
              "    }\n",
              "</style>\n",
              "<table border=\"1\" class=\"dataframe\">\n",
              "  <thead>\n",
              "    <tr style=\"text-align: right;\">\n",
              "      <th></th>\n",
              "      <th>postalcode</th>\n",
              "      <th>date</th>\n",
              "      <th>n_daily_data_points</th>\n",
              "      <th>dayofweek</th>\n",
              "      <th>day_type</th>\n",
              "      <th>bluecars_taken_sum</th>\n",
              "      <th>bluecars_returned_sum</th>\n",
              "      <th>slots_freed_sum</th>\n",
              "      <th>slots_taken_sum</th>\n",
              "    </tr>\n",
              "  </thead>\n",
              "  <tbody>\n",
              "    <tr>\n",
              "      <th>780</th>\n",
              "      <td>75006</td>\n",
              "      <td>1/1/2018</td>\n",
              "      <td>1440</td>\n",
              "      <td>Monday</td>\n",
              "      <td>weekday</td>\n",
              "      <td>215</td>\n",
              "      <td>197</td>\n",
              "      <td>34</td>\n",
              "      <td>31</td>\n",
              "    </tr>\n",
              "    <tr>\n",
              "      <th>781</th>\n",
              "      <td>75006</td>\n",
              "      <td>1/2/2018</td>\n",
              "      <td>1438</td>\n",
              "      <td>Tuesday</td>\n",
              "      <td>weekday</td>\n",
              "      <td>190</td>\n",
              "      <td>192</td>\n",
              "      <td>34</td>\n",
              "      <td>38</td>\n",
              "    </tr>\n",
              "    <tr>\n",
              "      <th>782</th>\n",
              "      <td>75006</td>\n",
              "      <td>1/3/2018</td>\n",
              "      <td>1439</td>\n",
              "      <td>Wednesday</td>\n",
              "      <td>weekday</td>\n",
              "      <td>208</td>\n",
              "      <td>207</td>\n",
              "      <td>30</td>\n",
              "      <td>25</td>\n",
              "    </tr>\n",
              "    <tr>\n",
              "      <th>783</th>\n",
              "      <td>75006</td>\n",
              "      <td>1/4/2018</td>\n",
              "      <td>1320</td>\n",
              "      <td>Thursday</td>\n",
              "      <td>weekday</td>\n",
              "      <td>176</td>\n",
              "      <td>179</td>\n",
              "      <td>32</td>\n",
              "      <td>30</td>\n",
              "    </tr>\n",
              "    <tr>\n",
              "      <th>784</th>\n",
              "      <td>75006</td>\n",
              "      <td>1/5/2018</td>\n",
              "      <td>1440</td>\n",
              "      <td>Friday</td>\n",
              "      <td>weekday</td>\n",
              "      <td>262</td>\n",
              "      <td>261</td>\n",
              "      <td>49</td>\n",
              "      <td>45</td>\n",
              "    </tr>\n",
              "  </tbody>\n",
              "</table>\n",
              "</div>"
            ],
            "text/plain": [
              "     postalcode      date  ...  slots_freed_sum slots_taken_sum\n",
              "780       75006  1/1/2018  ...               34              31\n",
              "781       75006  1/2/2018  ...               34              38\n",
              "782       75006  1/3/2018  ...               30              25\n",
              "783       75006  1/4/2018  ...               32              30\n",
              "784       75006  1/5/2018  ...               49              45\n",
              "\n",
              "[5 rows x 9 columns]"
            ]
          },
          "metadata": {
            "tags": []
          },
          "execution_count": 29
        }
      ]
    },
    {
      "cell_type": "code",
      "metadata": {
        "id": "WqhZLQJfuHa7",
        "colab": {
          "base_uri": "https://localhost:8080/",
          "height": 51
        },
        "outputId": "46b35c2c-5805-4ad8-e6f2-7f860bd55444"
      },
      "source": [
        "# # STEP 3\n",
        "\n",
        "# Calculating the test statistic\n",
        "# Applying the conditions for an appropriate decision.\n",
        "\n",
        "ztest , pval1 = stests.ztest(p1['bluecars_taken_sum'], x2= p2['bluecars_taken_sum'], value=0, alternative='two-sided')\n",
        "\n",
        "print(float(pval1))\n",
        "\n",
        "if pval1 < 0.05:\n",
        "    print(\"reject null hypothesis\")\n",
        "else:\n",
        "    print(\"accept null hypothesis\")"
      ],
      "execution_count": null,
      "outputs": [
        {
          "output_type": "stream",
          "text": [
            "3.571771542382906e-172\n",
            "reject null hypothesis\n"
          ],
          "name": "stdout"
        }
      ]
    },
    {
      "cell_type": "code",
      "metadata": {
        "id": "tG44w2-VuHXB"
      },
      "source": [
        "# STEP 4 \n",
        "\n",
        "# Evaluating our results\n",
        "\n",
        "# The p-value = 3.571771542382906e-172\n",
        "\n",
        "# this p-value is a very small value and it is less that the level of significance (0.05)\n",
        "\n",
        "# Hence we Reject the Null Hypothesis\n",
        "\n"
      ],
      "execution_count": null,
      "outputs": []
    },
    {
      "cell_type": "code",
      "metadata": {
        "id": "--JaFac7HBVP"
      },
      "source": [
        "# STEP 5\n",
        "\n",
        "# Interpreting the results\n",
        "\n",
        "# There is sufficient evidence to conclude that the difference in the means of blue cars taken in postal code 75012 and 75006 is not 0.\n",
        "\n",
        "# The test was statistically significant."
      ],
      "execution_count": null,
      "outputs": []
    }
  ]
}